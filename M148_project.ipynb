{
 "cells": [
  {
   "cell_type": "markdown",
   "metadata": {
    "id": "BtBLu3ZB6C-8"
   },
   "source": [
    "# 1. Import the dataset\n",
    "\n",
    "Using the `pandas` link from HuggingFace.\n",
    "\n",
    "Note that you have to run this every time (Colab does not save variables)"
   ]
  },
  {
   "cell_type": "code",
   "execution_count": 33,
   "metadata": {
    "id": "NWh2XcXv51Sz"
   },
   "outputs": [],
   "source": [
    "import pandas as pd\n",
    "import tqdm as notebook_tqdm\n",
    "import nbformat\n",
    "spotify = pd.read_csv(\"hf://datasets/maharshipandya/spotify-tracks-dataset/dataset.csv\")"
   ]
  },
  {
   "cell_type": "code",
   "execution_count": 6,
   "metadata": {
    "id": "XlezAgze767k"
   },
   "outputs": [],
   "source": [
    "# import some libraries\n",
    "import numpy as np\n",
    "import plotly.express as px\n",
    "pd.set_option('display.max_columns', None)\n",
    "pd.options.mode.copy_on_write = True\n",
    "import plotly.express as px"
   ]
  },
  {
   "cell_type": "markdown",
   "metadata": {
    "id": "xpiemk2I7ItJ"
   },
   "source": [
    "# 2. Getting started\n",
    "\n",
    "Print out the columns of the dataset.\n",
    "Print out the first 20 rows of the dataset."
   ]
  },
  {
   "cell_type": "code",
   "execution_count": 7,
   "metadata": {
    "colab": {
     "base_uri": "https://localhost:8080/"
    },
    "id": "kqnfrmFx7HVI",
    "outputId": "19bc2a5e-77e5-4a31-db63-a388782906aa"
   },
   "outputs": [
    {
     "data": {
      "text/plain": [
       "Index(['Unnamed: 0', 'track_id', 'artists', 'album_name', 'track_name',\n",
       "       'popularity', 'duration_ms', 'explicit', 'danceability', 'energy',\n",
       "       'key', 'loudness', 'mode', 'speechiness', 'acousticness',\n",
       "       'instrumentalness', 'liveness', 'valence', 'tempo', 'time_signature',\n",
       "       'track_genre'],\n",
       "      dtype='object')"
      ]
     },
     "execution_count": 7,
     "metadata": {},
     "output_type": "execute_result"
    }
   ],
   "source": [
    "spotify.columns\n",
    "# spotify.head(20)"
   ]
  },
  {
   "cell_type": "code",
   "execution_count": 8,
   "metadata": {
    "colab": {
     "base_uri": "https://localhost:8080/",
     "height": 1000
    },
    "id": "zikedWp78POW",
    "outputId": "5d324cf9-950a-41b3-9098-ba0b252c40bc"
   },
   "outputs": [
    {
     "data": {
      "text/html": [
       "<div>\n",
       "<style scoped>\n",
       "    .dataframe tbody tr th:only-of-type {\n",
       "        vertical-align: middle;\n",
       "    }\n",
       "\n",
       "    .dataframe tbody tr th {\n",
       "        vertical-align: top;\n",
       "    }\n",
       "\n",
       "    .dataframe thead th {\n",
       "        text-align: right;\n",
       "    }\n",
       "</style>\n",
       "<table border=\"1\" class=\"dataframe\">\n",
       "  <thead>\n",
       "    <tr style=\"text-align: right;\">\n",
       "      <th></th>\n",
       "      <th>Unnamed: 0</th>\n",
       "      <th>track_id</th>\n",
       "      <th>artists</th>\n",
       "      <th>album_name</th>\n",
       "      <th>track_name</th>\n",
       "      <th>popularity</th>\n",
       "      <th>duration_ms</th>\n",
       "      <th>explicit</th>\n",
       "      <th>danceability</th>\n",
       "      <th>energy</th>\n",
       "      <th>key</th>\n",
       "      <th>loudness</th>\n",
       "      <th>mode</th>\n",
       "      <th>speechiness</th>\n",
       "      <th>acousticness</th>\n",
       "      <th>instrumentalness</th>\n",
       "      <th>liveness</th>\n",
       "      <th>valence</th>\n",
       "      <th>tempo</th>\n",
       "      <th>time_signature</th>\n",
       "      <th>track_genre</th>\n",
       "    </tr>\n",
       "  </thead>\n",
       "  <tbody>\n",
       "    <tr>\n",
       "      <th>18895</th>\n",
       "      <td>18895</td>\n",
       "      <td>5FBvGDfcEshfwMMTwR1kgm</td>\n",
       "      <td>Richard Pryor;Lena Horne</td>\n",
       "      <td>The Wiz</td>\n",
       "      <td>The Good Witch Glinda</td>\n",
       "      <td>21</td>\n",
       "      <td>69000</td>\n",
       "      <td>False</td>\n",
       "      <td>0.195</td>\n",
       "      <td>0.143</td>\n",
       "      <td>10</td>\n",
       "      <td>-17.805</td>\n",
       "      <td>1</td>\n",
       "      <td>0.0346</td>\n",
       "      <td>0.947000</td>\n",
       "      <td>0.002280</td>\n",
       "      <td>0.3480</td>\n",
       "      <td>0.0739</td>\n",
       "      <td>83.077</td>\n",
       "      <td>3</td>\n",
       "      <td>comedy</td>\n",
       "    </tr>\n",
       "    <tr>\n",
       "      <th>98423</th>\n",
       "      <td>98423</td>\n",
       "      <td>1pzOQkOi72TdKITN8Swg1s</td>\n",
       "      <td>Alan Menken</td>\n",
       "      <td>Beauty And The Beast: The Broadway Musical</td>\n",
       "      <td>Entr'acte/Wolf Chase</td>\n",
       "      <td>26</td>\n",
       "      <td>269280</td>\n",
       "      <td>False</td>\n",
       "      <td>0.295</td>\n",
       "      <td>0.183</td>\n",
       "      <td>2</td>\n",
       "      <td>-17.833</td>\n",
       "      <td>1</td>\n",
       "      <td>0.0385</td>\n",
       "      <td>0.780000</td>\n",
       "      <td>0.214000</td>\n",
       "      <td>0.0983</td>\n",
       "      <td>0.1700</td>\n",
       "      <td>143.202</td>\n",
       "      <td>4</td>\n",
       "      <td>show-tunes</td>\n",
       "    </tr>\n",
       "    <tr>\n",
       "      <th>106928</th>\n",
       "      <td>106928</td>\n",
       "      <td>6EPJ0JkvHEWARjK5lq0Bqf</td>\n",
       "      <td>Markus Krunegård;Klara Söderberg</td>\n",
       "      <td>LUGNA HITS</td>\n",
       "      <td>Det var en gång i Lissabon</td>\n",
       "      <td>0</td>\n",
       "      <td>236333</td>\n",
       "      <td>False</td>\n",
       "      <td>0.591</td>\n",
       "      <td>0.488</td>\n",
       "      <td>0</td>\n",
       "      <td>-6.330</td>\n",
       "      <td>1</td>\n",
       "      <td>0.0265</td>\n",
       "      <td>0.756000</td>\n",
       "      <td>0.000000</td>\n",
       "      <td>0.1080</td>\n",
       "      <td>0.4340</td>\n",
       "      <td>97.009</td>\n",
       "      <td>4</td>\n",
       "      <td>swedish</td>\n",
       "    </tr>\n",
       "    <tr>\n",
       "      <th>48123</th>\n",
       "      <td>48123</td>\n",
       "      <td>2p9sprAX27D6U5cuSE9NsM</td>\n",
       "      <td>Rakim</td>\n",
       "      <td>The Master</td>\n",
       "      <td>When I B On Tha Mic</td>\n",
       "      <td>65</td>\n",
       "      <td>222933</td>\n",
       "      <td>True</td>\n",
       "      <td>0.836</td>\n",
       "      <td>0.484</td>\n",
       "      <td>2</td>\n",
       "      <td>-7.332</td>\n",
       "      <td>1</td>\n",
       "      <td>0.3270</td>\n",
       "      <td>0.045400</td>\n",
       "      <td>0.000000</td>\n",
       "      <td>0.0557</td>\n",
       "      <td>0.8390</td>\n",
       "      <td>95.941</td>\n",
       "      <td>4</td>\n",
       "      <td>hardcore</td>\n",
       "    </tr>\n",
       "    <tr>\n",
       "      <th>99903</th>\n",
       "      <td>99903</td>\n",
       "      <td>4hv9mEWi4911k1uhU4fPEH</td>\n",
       "      <td>Ufuk Beydemir</td>\n",
       "      <td>Sevda Gibi</td>\n",
       "      <td>Ay Tenli Kadın</td>\n",
       "      <td>67</td>\n",
       "      <td>197967</td>\n",
       "      <td>False</td>\n",
       "      <td>0.533</td>\n",
       "      <td>0.541</td>\n",
       "      <td>6</td>\n",
       "      <td>-7.854</td>\n",
       "      <td>1</td>\n",
       "      <td>0.0252</td>\n",
       "      <td>0.217000</td>\n",
       "      <td>0.000004</td>\n",
       "      <td>0.1100</td>\n",
       "      <td>0.3350</td>\n",
       "      <td>144.135</td>\n",
       "      <td>4</td>\n",
       "      <td>singer-songwriter</td>\n",
       "    </tr>\n",
       "    <tr>\n",
       "      <th>33055</th>\n",
       "      <td>33055</td>\n",
       "      <td>43ZyHQITOjhciSUUNPVRHc</td>\n",
       "      <td>Lil Pump</td>\n",
       "      <td>Lil Pump</td>\n",
       "      <td>Gucci Gang</td>\n",
       "      <td>64</td>\n",
       "      <td>124055</td>\n",
       "      <td>True</td>\n",
       "      <td>0.936</td>\n",
       "      <td>0.523</td>\n",
       "      <td>5</td>\n",
       "      <td>-6.710</td>\n",
       "      <td>1</td>\n",
       "      <td>0.0597</td>\n",
       "      <td>0.239000</td>\n",
       "      <td>0.000000</td>\n",
       "      <td>0.1170</td>\n",
       "      <td>0.6990</td>\n",
       "      <td>119.889</td>\n",
       "      <td>4</td>\n",
       "      <td>emo</td>\n",
       "    </tr>\n",
       "    <tr>\n",
       "      <th>95458</th>\n",
       "      <td>95458</td>\n",
       "      <td>4Ak08qsbY05C2fn6lcirCK</td>\n",
       "      <td>Joe Arroyo</td>\n",
       "      <td>32 Grandes Exitos</td>\n",
       "      <td>Falta La Plata</td>\n",
       "      <td>30</td>\n",
       "      <td>187733</td>\n",
       "      <td>False</td>\n",
       "      <td>0.760</td>\n",
       "      <td>0.539</td>\n",
       "      <td>6</td>\n",
       "      <td>-7.164</td>\n",
       "      <td>1</td>\n",
       "      <td>0.0500</td>\n",
       "      <td>0.359000</td>\n",
       "      <td>0.000052</td>\n",
       "      <td>0.0717</td>\n",
       "      <td>0.9220</td>\n",
       "      <td>107.963</td>\n",
       "      <td>4</td>\n",
       "      <td>salsa</td>\n",
       "    </tr>\n",
       "    <tr>\n",
       "      <th>52047</th>\n",
       "      <td>52047</td>\n",
       "      <td>23EblUTQTswA21CfIzBL6z</td>\n",
       "      <td>George Jones</td>\n",
       "      <td>George Jones - 16 Biggest Hits</td>\n",
       "      <td>If Drinkin' Don't Kill Me (Her Memory Will)</td>\n",
       "      <td>29</td>\n",
       "      <td>191293</td>\n",
       "      <td>False</td>\n",
       "      <td>0.596</td>\n",
       "      <td>0.333</td>\n",
       "      <td>6</td>\n",
       "      <td>-13.118</td>\n",
       "      <td>1</td>\n",
       "      <td>0.0304</td>\n",
       "      <td>0.689000</td>\n",
       "      <td>0.000000</td>\n",
       "      <td>0.2010</td>\n",
       "      <td>0.2390</td>\n",
       "      <td>89.554</td>\n",
       "      <td>3</td>\n",
       "      <td>honky-tonk</td>\n",
       "    </tr>\n",
       "    <tr>\n",
       "      <th>5296</th>\n",
       "      <td>5296</td>\n",
       "      <td>4JFFfy6ZQcvi9ggYE8hdc2</td>\n",
       "      <td>Kato</td>\n",
       "      <td>Sleep Anime Lofi Beats</td>\n",
       "      <td>Again Lofi (Fullmetal Alchemist Brotherhood)</td>\n",
       "      <td>57</td>\n",
       "      <td>92917</td>\n",
       "      <td>False</td>\n",
       "      <td>0.332</td>\n",
       "      <td>0.107</td>\n",
       "      <td>4</td>\n",
       "      <td>-23.231</td>\n",
       "      <td>0</td>\n",
       "      <td>0.0399</td>\n",
       "      <td>0.795000</td>\n",
       "      <td>0.854000</td>\n",
       "      <td>0.1080</td>\n",
       "      <td>0.1280</td>\n",
       "      <td>179.117</td>\n",
       "      <td>4</td>\n",
       "      <td>anime</td>\n",
       "    </tr>\n",
       "    <tr>\n",
       "      <th>80399</th>\n",
       "      <td>80399</td>\n",
       "      <td>73C5Q80RK1T5CA68F6foTl</td>\n",
       "      <td>Harish Raghavendra;Srilekha Parthasarathy;Franko</td>\n",
       "      <td>Lesa Lesa</td>\n",
       "      <td>Yedho Ondru</td>\n",
       "      <td>61</td>\n",
       "      <td>336962</td>\n",
       "      <td>False</td>\n",
       "      <td>0.709</td>\n",
       "      <td>0.535</td>\n",
       "      <td>9</td>\n",
       "      <td>-8.152</td>\n",
       "      <td>0</td>\n",
       "      <td>0.0357</td>\n",
       "      <td>0.164000</td>\n",
       "      <td>0.000000</td>\n",
       "      <td>0.0877</td>\n",
       "      <td>0.7490</td>\n",
       "      <td>99.965</td>\n",
       "      <td>4</td>\n",
       "      <td>pop-film</td>\n",
       "    </tr>\n",
       "    <tr>\n",
       "      <th>89228</th>\n",
       "      <td>89228</td>\n",
       "      <td>5gePc5Ns5P1lBhlSrItWwK</td>\n",
       "      <td>Jhayco;Ozuna</td>\n",
       "      <td>Hora del taco sin auto</td>\n",
       "      <td>Easy - Remix</td>\n",
       "      <td>1</td>\n",
       "      <td>219866</td>\n",
       "      <td>False</td>\n",
       "      <td>0.891</td>\n",
       "      <td>0.748</td>\n",
       "      <td>1</td>\n",
       "      <td>-3.844</td>\n",
       "      <td>0</td>\n",
       "      <td>0.0976</td>\n",
       "      <td>0.186000</td>\n",
       "      <td>0.000002</td>\n",
       "      <td>0.1330</td>\n",
       "      <td>0.4010</td>\n",
       "      <td>94.060</td>\n",
       "      <td>4</td>\n",
       "      <td>reggaeton</td>\n",
       "    </tr>\n",
       "    <tr>\n",
       "      <th>89100</th>\n",
       "      <td>89100</td>\n",
       "      <td>4f8mIikzaT5Aw3tV5ftwvL</td>\n",
       "      <td>J Balvin;Bad Bunny</td>\n",
       "      <td>El perreo es el futuro</td>\n",
       "      <td>LA CANCIÓN</td>\n",
       "      <td>0</td>\n",
       "      <td>242573</td>\n",
       "      <td>False</td>\n",
       "      <td>0.756</td>\n",
       "      <td>0.646</td>\n",
       "      <td>7</td>\n",
       "      <td>-5.795</td>\n",
       "      <td>1</td>\n",
       "      <td>0.3190</td>\n",
       "      <td>0.152000</td>\n",
       "      <td>0.000018</td>\n",
       "      <td>0.1080</td>\n",
       "      <td>0.4290</td>\n",
       "      <td>176.088</td>\n",
       "      <td>4</td>\n",
       "      <td>reggaeton</td>\n",
       "    </tr>\n",
       "    <tr>\n",
       "      <th>87407</th>\n",
       "      <td>87407</td>\n",
       "      <td>2MlMI8EvmLlWYXVcdfSAxs</td>\n",
       "      <td>O Rappa</td>\n",
       "      <td>O Rappa - Acústico Oficina Francisco Brennand ...</td>\n",
       "      <td>Uma vida só - Ao vivo</td>\n",
       "      <td>45</td>\n",
       "      <td>235864</td>\n",
       "      <td>False</td>\n",
       "      <td>0.460</td>\n",
       "      <td>0.898</td>\n",
       "      <td>5</td>\n",
       "      <td>-4.922</td>\n",
       "      <td>0</td>\n",
       "      <td>0.0412</td>\n",
       "      <td>0.011200</td>\n",
       "      <td>0.001080</td>\n",
       "      <td>0.6490</td>\n",
       "      <td>0.7460</td>\n",
       "      <td>92.148</td>\n",
       "      <td>4</td>\n",
       "      <td>r-n-b</td>\n",
       "    </tr>\n",
       "    <tr>\n",
       "      <th>28197</th>\n",
       "      <td>28197</td>\n",
       "      <td>5nIW1Jt8sBn9ZVYZDmjqE3</td>\n",
       "      <td>Israel Vibration</td>\n",
       "      <td>Reggae Knights</td>\n",
       "      <td>My Master's Will</td>\n",
       "      <td>37</td>\n",
       "      <td>277320</td>\n",
       "      <td>False</td>\n",
       "      <td>0.867</td>\n",
       "      <td>0.544</td>\n",
       "      <td>1</td>\n",
       "      <td>-7.381</td>\n",
       "      <td>1</td>\n",
       "      <td>0.2310</td>\n",
       "      <td>0.146000</td>\n",
       "      <td>0.000000</td>\n",
       "      <td>0.1010</td>\n",
       "      <td>0.7720</td>\n",
       "      <td>143.719</td>\n",
       "      <td>4</td>\n",
       "      <td>dub</td>\n",
       "    </tr>\n",
       "    <tr>\n",
       "      <th>43609</th>\n",
       "      <td>43609</td>\n",
       "      <td>2zME1tNgLyHCJ29E2uSeJM</td>\n",
       "      <td>Solardo;Vintage Culture;LOWES</td>\n",
       "      <td>Adidas &amp; Pearls</td>\n",
       "      <td>Adidas &amp; Pearls</td>\n",
       "      <td>59</td>\n",
       "      <td>209280</td>\n",
       "      <td>False</td>\n",
       "      <td>0.589</td>\n",
       "      <td>0.893</td>\n",
       "      <td>7</td>\n",
       "      <td>-8.240</td>\n",
       "      <td>0</td>\n",
       "      <td>0.0428</td>\n",
       "      <td>0.000875</td>\n",
       "      <td>0.008220</td>\n",
       "      <td>0.0917</td>\n",
       "      <td>0.4330</td>\n",
       "      <td>125.000</td>\n",
       "      <td>4</td>\n",
       "      <td>groove</td>\n",
       "    </tr>\n",
       "    <tr>\n",
       "      <th>102705</th>\n",
       "      <td>102705</td>\n",
       "      <td>5uBxWyHmRbUCzJ87E34MP8</td>\n",
       "      <td>Hayd</td>\n",
       "      <td>Lost</td>\n",
       "      <td>Lost</td>\n",
       "      <td>58</td>\n",
       "      <td>181730</td>\n",
       "      <td>False</td>\n",
       "      <td>0.386</td>\n",
       "      <td>0.168</td>\n",
       "      <td>8</td>\n",
       "      <td>-14.768</td>\n",
       "      <td>1</td>\n",
       "      <td>0.0367</td>\n",
       "      <td>0.938000</td>\n",
       "      <td>0.009950</td>\n",
       "      <td>0.0819</td>\n",
       "      <td>0.3120</td>\n",
       "      <td>126.473</td>\n",
       "      <td>4</td>\n",
       "      <td>songwriter</td>\n",
       "    </tr>\n",
       "    <tr>\n",
       "      <th>60559</th>\n",
       "      <td>60559</td>\n",
       "      <td>6oJ5s5Mv7nCkDMCfsfoPdX</td>\n",
       "      <td>Eshconinco;Yemil;EL TACHI</td>\n",
       "      <td>GOOD GYAL</td>\n",
       "      <td>GOOD GYAL</td>\n",
       "      <td>21</td>\n",
       "      <td>252604</td>\n",
       "      <td>True</td>\n",
       "      <td>0.594</td>\n",
       "      <td>0.644</td>\n",
       "      <td>4</td>\n",
       "      <td>-4.630</td>\n",
       "      <td>0</td>\n",
       "      <td>0.3580</td>\n",
       "      <td>0.115000</td>\n",
       "      <td>0.000000</td>\n",
       "      <td>0.1940</td>\n",
       "      <td>0.6950</td>\n",
       "      <td>95.578</td>\n",
       "      <td>4</td>\n",
       "      <td>j-dance</td>\n",
       "    </tr>\n",
       "    <tr>\n",
       "      <th>67048</th>\n",
       "      <td>67048</td>\n",
       "      <td>5bWsrvSklKrDrYbBgqknno</td>\n",
       "      <td>Daddy Yankee</td>\n",
       "      <td>Homecoming Latin Party</td>\n",
       "      <td>Sígueme Y Te Sigo</td>\n",
       "      <td>0</td>\n",
       "      <td>209786</td>\n",
       "      <td>False</td>\n",
       "      <td>0.736</td>\n",
       "      <td>0.878</td>\n",
       "      <td>1</td>\n",
       "      <td>-3.604</td>\n",
       "      <td>0</td>\n",
       "      <td>0.0428</td>\n",
       "      <td>0.068200</td>\n",
       "      <td>0.000064</td>\n",
       "      <td>0.7560</td>\n",
       "      <td>0.6620</td>\n",
       "      <td>100.024</td>\n",
       "      <td>4</td>\n",
       "      <td>latin</td>\n",
       "    </tr>\n",
       "    <tr>\n",
       "      <th>9885</th>\n",
       "      <td>9885</td>\n",
       "      <td>67TQGw4cZzFD33j4KJcOdQ</td>\n",
       "      <td>Cassiane</td>\n",
       "      <td>Para Sempre</td>\n",
       "      <td>Vou Seguir</td>\n",
       "      <td>43</td>\n",
       "      <td>282633</td>\n",
       "      <td>False</td>\n",
       "      <td>0.509</td>\n",
       "      <td>0.396</td>\n",
       "      <td>8</td>\n",
       "      <td>-11.166</td>\n",
       "      <td>1</td>\n",
       "      <td>0.0335</td>\n",
       "      <td>0.542000</td>\n",
       "      <td>0.000001</td>\n",
       "      <td>0.1270</td>\n",
       "      <td>0.4360</td>\n",
       "      <td>140.071</td>\n",
       "      <td>4</td>\n",
       "      <td>brazil</td>\n",
       "    </tr>\n",
       "    <tr>\n",
       "      <th>66237</th>\n",
       "      <td>66237</td>\n",
       "      <td>1BSqyq83kxnA3oDf4eXLVX</td>\n",
       "      <td>Poop Emoji</td>\n",
       "      <td>Best Nintendo Music</td>\n",
       "      <td>The Paper Mario Origami King Song</td>\n",
       "      <td>14</td>\n",
       "      <td>69333</td>\n",
       "      <td>False</td>\n",
       "      <td>0.803</td>\n",
       "      <td>0.530</td>\n",
       "      <td>5</td>\n",
       "      <td>-7.817</td>\n",
       "      <td>1</td>\n",
       "      <td>0.1420</td>\n",
       "      <td>0.170000</td>\n",
       "      <td>0.000001</td>\n",
       "      <td>0.2500</td>\n",
       "      <td>0.6590</td>\n",
       "      <td>89.984</td>\n",
       "      <td>4</td>\n",
       "      <td>kids</td>\n",
       "    </tr>\n",
       "  </tbody>\n",
       "</table>\n",
       "</div>"
      ],
      "text/plain": [
       "        Unnamed: 0                track_id  \\\n",
       "18895        18895  5FBvGDfcEshfwMMTwR1kgm   \n",
       "98423        98423  1pzOQkOi72TdKITN8Swg1s   \n",
       "106928      106928  6EPJ0JkvHEWARjK5lq0Bqf   \n",
       "48123        48123  2p9sprAX27D6U5cuSE9NsM   \n",
       "99903        99903  4hv9mEWi4911k1uhU4fPEH   \n",
       "33055        33055  43ZyHQITOjhciSUUNPVRHc   \n",
       "95458        95458  4Ak08qsbY05C2fn6lcirCK   \n",
       "52047        52047  23EblUTQTswA21CfIzBL6z   \n",
       "5296          5296  4JFFfy6ZQcvi9ggYE8hdc2   \n",
       "80399        80399  73C5Q80RK1T5CA68F6foTl   \n",
       "89228        89228  5gePc5Ns5P1lBhlSrItWwK   \n",
       "89100        89100  4f8mIikzaT5Aw3tV5ftwvL   \n",
       "87407        87407  2MlMI8EvmLlWYXVcdfSAxs   \n",
       "28197        28197  5nIW1Jt8sBn9ZVYZDmjqE3   \n",
       "43609        43609  2zME1tNgLyHCJ29E2uSeJM   \n",
       "102705      102705  5uBxWyHmRbUCzJ87E34MP8   \n",
       "60559        60559  6oJ5s5Mv7nCkDMCfsfoPdX   \n",
       "67048        67048  5bWsrvSklKrDrYbBgqknno   \n",
       "9885          9885  67TQGw4cZzFD33j4KJcOdQ   \n",
       "66237        66237  1BSqyq83kxnA3oDf4eXLVX   \n",
       "\n",
       "                                                 artists  \\\n",
       "18895                           Richard Pryor;Lena Horne   \n",
       "98423                                        Alan Menken   \n",
       "106928                  Markus Krunegård;Klara Söderberg   \n",
       "48123                                              Rakim   \n",
       "99903                                      Ufuk Beydemir   \n",
       "33055                                           Lil Pump   \n",
       "95458                                         Joe Arroyo   \n",
       "52047                                       George Jones   \n",
       "5296                                                Kato   \n",
       "80399   Harish Raghavendra;Srilekha Parthasarathy;Franko   \n",
       "89228                                       Jhayco;Ozuna   \n",
       "89100                                 J Balvin;Bad Bunny   \n",
       "87407                                            O Rappa   \n",
       "28197                                   Israel Vibration   \n",
       "43609                      Solardo;Vintage Culture;LOWES   \n",
       "102705                                              Hayd   \n",
       "60559                          Eshconinco;Yemil;EL TACHI   \n",
       "67048                                       Daddy Yankee   \n",
       "9885                                            Cassiane   \n",
       "66237                                         Poop Emoji   \n",
       "\n",
       "                                               album_name  \\\n",
       "18895                                             The Wiz   \n",
       "98423          Beauty And The Beast: The Broadway Musical   \n",
       "106928                                         LUGNA HITS   \n",
       "48123                                          The Master   \n",
       "99903                                          Sevda Gibi   \n",
       "33055                                            Lil Pump   \n",
       "95458                                   32 Grandes Exitos   \n",
       "52047                      George Jones - 16 Biggest Hits   \n",
       "5296                               Sleep Anime Lofi Beats   \n",
       "80399                                           Lesa Lesa   \n",
       "89228                              Hora del taco sin auto   \n",
       "89100                              El perreo es el futuro   \n",
       "87407   O Rappa - Acústico Oficina Francisco Brennand ...   \n",
       "28197                                      Reggae Knights   \n",
       "43609                                     Adidas & Pearls   \n",
       "102705                                               Lost   \n",
       "60559                                           GOOD GYAL   \n",
       "67048                              Homecoming Latin Party   \n",
       "9885                                          Para Sempre   \n",
       "66237                                 Best Nintendo Music   \n",
       "\n",
       "                                          track_name  popularity  duration_ms  \\\n",
       "18895                          The Good Witch Glinda          21        69000   \n",
       "98423                           Entr'acte/Wolf Chase          26       269280   \n",
       "106928                    Det var en gång i Lissabon           0       236333   \n",
       "48123                            When I B On Tha Mic          65       222933   \n",
       "99903                                 Ay Tenli Kadın          67       197967   \n",
       "33055                                     Gucci Gang          64       124055   \n",
       "95458                                 Falta La Plata          30       187733   \n",
       "52047    If Drinkin' Don't Kill Me (Her Memory Will)          29       191293   \n",
       "5296    Again Lofi (Fullmetal Alchemist Brotherhood)          57        92917   \n",
       "80399                                    Yedho Ondru          61       336962   \n",
       "89228                                   Easy - Remix           1       219866   \n",
       "89100                                     LA CANCIÓN           0       242573   \n",
       "87407                          Uma vida só - Ao vivo          45       235864   \n",
       "28197                               My Master's Will          37       277320   \n",
       "43609                                Adidas & Pearls          59       209280   \n",
       "102705                                          Lost          58       181730   \n",
       "60559                                      GOOD GYAL          21       252604   \n",
       "67048                              Sígueme Y Te Sigo           0       209786   \n",
       "9885                                      Vou Seguir          43       282633   \n",
       "66237              The Paper Mario Origami King Song          14        69333   \n",
       "\n",
       "        explicit  danceability  energy  key  loudness  mode  speechiness  \\\n",
       "18895      False         0.195   0.143   10   -17.805     1       0.0346   \n",
       "98423      False         0.295   0.183    2   -17.833     1       0.0385   \n",
       "106928     False         0.591   0.488    0    -6.330     1       0.0265   \n",
       "48123       True         0.836   0.484    2    -7.332     1       0.3270   \n",
       "99903      False         0.533   0.541    6    -7.854     1       0.0252   \n",
       "33055       True         0.936   0.523    5    -6.710     1       0.0597   \n",
       "95458      False         0.760   0.539    6    -7.164     1       0.0500   \n",
       "52047      False         0.596   0.333    6   -13.118     1       0.0304   \n",
       "5296       False         0.332   0.107    4   -23.231     0       0.0399   \n",
       "80399      False         0.709   0.535    9    -8.152     0       0.0357   \n",
       "89228      False         0.891   0.748    1    -3.844     0       0.0976   \n",
       "89100      False         0.756   0.646    7    -5.795     1       0.3190   \n",
       "87407      False         0.460   0.898    5    -4.922     0       0.0412   \n",
       "28197      False         0.867   0.544    1    -7.381     1       0.2310   \n",
       "43609      False         0.589   0.893    7    -8.240     0       0.0428   \n",
       "102705     False         0.386   0.168    8   -14.768     1       0.0367   \n",
       "60559       True         0.594   0.644    4    -4.630     0       0.3580   \n",
       "67048      False         0.736   0.878    1    -3.604     0       0.0428   \n",
       "9885       False         0.509   0.396    8   -11.166     1       0.0335   \n",
       "66237      False         0.803   0.530    5    -7.817     1       0.1420   \n",
       "\n",
       "        acousticness  instrumentalness  liveness  valence    tempo  \\\n",
       "18895       0.947000          0.002280    0.3480   0.0739   83.077   \n",
       "98423       0.780000          0.214000    0.0983   0.1700  143.202   \n",
       "106928      0.756000          0.000000    0.1080   0.4340   97.009   \n",
       "48123       0.045400          0.000000    0.0557   0.8390   95.941   \n",
       "99903       0.217000          0.000004    0.1100   0.3350  144.135   \n",
       "33055       0.239000          0.000000    0.1170   0.6990  119.889   \n",
       "95458       0.359000          0.000052    0.0717   0.9220  107.963   \n",
       "52047       0.689000          0.000000    0.2010   0.2390   89.554   \n",
       "5296        0.795000          0.854000    0.1080   0.1280  179.117   \n",
       "80399       0.164000          0.000000    0.0877   0.7490   99.965   \n",
       "89228       0.186000          0.000002    0.1330   0.4010   94.060   \n",
       "89100       0.152000          0.000018    0.1080   0.4290  176.088   \n",
       "87407       0.011200          0.001080    0.6490   0.7460   92.148   \n",
       "28197       0.146000          0.000000    0.1010   0.7720  143.719   \n",
       "43609       0.000875          0.008220    0.0917   0.4330  125.000   \n",
       "102705      0.938000          0.009950    0.0819   0.3120  126.473   \n",
       "60559       0.115000          0.000000    0.1940   0.6950   95.578   \n",
       "67048       0.068200          0.000064    0.7560   0.6620  100.024   \n",
       "9885        0.542000          0.000001    0.1270   0.4360  140.071   \n",
       "66237       0.170000          0.000001    0.2500   0.6590   89.984   \n",
       "\n",
       "        time_signature        track_genre  \n",
       "18895                3             comedy  \n",
       "98423                4         show-tunes  \n",
       "106928               4            swedish  \n",
       "48123                4           hardcore  \n",
       "99903                4  singer-songwriter  \n",
       "33055                4                emo  \n",
       "95458                4              salsa  \n",
       "52047                3         honky-tonk  \n",
       "5296                 4              anime  \n",
       "80399                4           pop-film  \n",
       "89228                4          reggaeton  \n",
       "89100                4          reggaeton  \n",
       "87407                4              r-n-b  \n",
       "28197                4                dub  \n",
       "43609                4             groove  \n",
       "102705               4         songwriter  \n",
       "60559                4            j-dance  \n",
       "67048                4              latin  \n",
       "9885                 4             brazil  \n",
       "66237                4               kids  "
      ]
     },
     "execution_count": 8,
     "metadata": {},
     "output_type": "execute_result"
    }
   ],
   "source": [
    "# Get 20 random rows\n",
    "spotify.sample(20)"
   ]
  },
  {
   "cell_type": "code",
   "execution_count": 9,
   "metadata": {
    "colab": {
     "base_uri": "https://localhost:8080/"
    },
    "id": "Z6PyDHus8Tud",
    "outputId": "d702322f-7713-422a-fa15-0b54ea8e3ec1"
   },
   "outputs": [
    {
     "data": {
      "text/plain": [
       "(114000, 21)"
      ]
     },
     "execution_count": 9,
     "metadata": {},
     "output_type": "execute_result"
    }
   ],
   "source": [
    "# Check the shape of spotify dataset\n",
    "spotify.shape"
   ]
  },
  {
   "cell_type": "code",
   "execution_count": 10,
   "metadata": {
    "colab": {
     "base_uri": "https://localhost:8080/"
    },
    "id": "U4R5CVJT8VLT",
    "outputId": "2d9959b3-5fba-4f55-8213-c12224fe6c9e"
   },
   "outputs": [
    {
     "name": "stdout",
     "output_type": "stream",
     "text": [
      "                     artists  \\\n",
      "0                     !nvite   \n",
      "1                     !nvite   \n",
      "2      \"Puppy Dog Pals\" Cast   \n",
      "3      \"Puppy Dog Pals\" Cast   \n",
      "4        \"Weird Al\" Yankovic   \n",
      "...                      ...   \n",
      "81338                     黃妃   \n",
      "81339                    黃小琥   \n",
      "81340                    黃敏華   \n",
      "81341                龍藏Ryuzo   \n",
      "81342                龍藏Ryuzo   \n",
      "\n",
      "                                              track_name  count  \n",
      "0                                               pagadoff      1  \n",
      "1                                              strolling      1  \n",
      "2                                     Going on a Mission      1  \n",
      "3                        Puppy Dog Pals Main Title Theme      1  \n",
      "4      Amish Paradise (Parody of \"Gangsta's Paradise\"...      1  \n",
      "...                                                  ...    ...  \n",
      "81338                                              溫暖的所在      1  \n",
      "81339                                              沒那麽簡單      1  \n",
      "81340                                                 堤岸      1  \n",
      "81341                             ゲゲゲの鬼太郎 (Instrumental)      1  \n",
      "81342                               紅蓮の弓矢 (Instrumental)      1  \n",
      "\n",
      "[81343 rows x 3 columns]\n",
      "There are 16501 artist, track_name combinations that are non-unique.\n"
     ]
    }
   ],
   "source": [
    "# Sanity check: get the counts of each artist and track_name combination\n",
    "counts = spotify.groupby(['artists', 'track_name']).size().reset_index(name='count')\n",
    "print(counts)\n",
    "print(\"There are \" + str(sum(counts['count'] != 1)) + \" artist, track_name combinations that are non-unique.\")"
   ]
  },
  {
   "cell_type": "markdown",
   "metadata": {
    "id": "Ab7Nmx2JaWnl"
   },
   "source": [
    "## Sanity checks!\n",
    "\n",
    "- Are there any entries with null values\n",
    "- Do numbers fall in the expected range\n"
   ]
  },
  {
   "cell_type": "code",
   "execution_count": 11,
   "metadata": {
    "colab": {
     "base_uri": "https://localhost:8080/"
    },
    "id": "uPj9e86ZsE4C",
    "outputId": "e42e700f-7d78-46b2-ef67-f7ff3daffbd7"
   },
   "outputs": [
    {
     "data": {
      "text/plain": [
       "0"
      ]
     },
     "execution_count": 11,
     "metadata": {},
     "output_type": "execute_result"
    }
   ],
   "source": [
    "# popularity between 0 and 100\n",
    "sum(spotify['popularity'] < 0) + sum(spotify['popularity'] > 100)"
   ]
  },
  {
   "cell_type": "code",
   "execution_count": 12,
   "metadata": {
    "colab": {
     "base_uri": "https://localhost:8080/"
    },
    "id": "AAxU2scuaenq",
    "outputId": "e9cc9856-c863-4f6a-8206-2e313a1659d1"
   },
   "outputs": [
    {
     "data": {
      "text/plain": [
       "0"
      ]
     },
     "execution_count": 12,
     "metadata": {},
     "output_type": "execute_result"
    }
   ],
   "source": [
    "# danceability between 0.0 and 1.0\n",
    "sum(spotify['danceability'] < 0.0) + sum(spotify['danceability'] > 1.0)"
   ]
  },
  {
   "cell_type": "code",
   "execution_count": 13,
   "metadata": {
    "colab": {
     "base_uri": "https://localhost:8080/"
    },
    "id": "ZpPM45ZAcYyZ",
    "outputId": "5fef807c-9e87-4660-c39d-e2ead3dd4a50"
   },
   "outputs": [
    {
     "data": {
      "text/plain": [
       "0"
      ]
     },
     "execution_count": 13,
     "metadata": {},
     "output_type": "execute_result"
    }
   ],
   "source": [
    "# energy is between 0.0 to 1.0\n",
    "sum(spotify['energy'] < 0.0) + sum(spotify['energy'] > 1.0)"
   ]
  },
  {
   "cell_type": "code",
   "execution_count": 14,
   "metadata": {
    "colab": {
     "base_uri": "https://localhost:8080/"
    },
    "id": "BOr4Ow9mbHmF",
    "outputId": "a5c51b8d-ed02-49d8-cd0e-3af2701f92fd"
   },
   "outputs": [
    {
     "data": {
      "text/plain": [
       "0"
      ]
     },
     "execution_count": 14,
     "metadata": {},
     "output_type": "execute_result"
    }
   ],
   "source": [
    "# mode is 0 or 1\n",
    "sum(x not in [0,1] for x in spotify['mode'])"
   ]
  },
  {
   "cell_type": "code",
   "execution_count": 15,
   "metadata": {
    "colab": {
     "base_uri": "https://localhost:8080/"
    },
    "id": "i7ND7P5NcflU",
    "outputId": "faee2c2d-f58e-41ba-e78d-a7c5471e7702"
   },
   "outputs": [
    {
     "data": {
      "text/plain": [
       "0"
      ]
     },
     "execution_count": 15,
     "metadata": {},
     "output_type": "execute_result"
    }
   ],
   "source": [
    "# speechiness between 0.0 and 1.0\n",
    "sum(spotify['speechiness'] < 0.0) + sum(spotify['speechiness'] > 1.0)"
   ]
  },
  {
   "cell_type": "code",
   "execution_count": 16,
   "metadata": {
    "colab": {
     "base_uri": "https://localhost:8080/"
    },
    "id": "gEVJB-tYc-4e",
    "outputId": "620e9a3b-9814-489f-b76d-78bd084e6664"
   },
   "outputs": [
    {
     "data": {
      "text/plain": [
       "0"
      ]
     },
     "execution_count": 16,
     "metadata": {},
     "output_type": "execute_result"
    }
   ],
   "source": [
    "# acousticness between 0.0 and 1.0\n",
    "sum(spotify['acousticness'] < 0.0) + sum(spotify['acousticness'] > 1.0)"
   ]
  },
  {
   "cell_type": "code",
   "execution_count": null,
   "metadata": {
    "colab": {
     "base_uri": "https://localhost:8080/"
    },
    "id": "2pHzb8YrdCeo",
    "outputId": "9862daa9-774c-4315-890a-1657ff7a3dd8"
   },
   "outputs": [],
   "source": [
    "# instrumentalness between 0.0 and 1.0\n",
    "sum(spotify['instrumentalness'] < 0.0) + sum(spotify['instrumentalness'] > 1.0)"
   ]
  },
  {
   "cell_type": "code",
   "execution_count": null,
   "metadata": {
    "colab": {
     "base_uri": "https://localhost:8080/"
    },
    "id": "Cud3XpMzdPi5",
    "outputId": "6ae84ec7-1f76-48e4-f949-4c4db7d6c98e"
   },
   "outputs": [],
   "source": [
    "# liveness between 0.0 and 1.0\n",
    "sum(spotify['liveness'] < 0.0) + sum(spotify['liveness'] > 1.0)"
   ]
  },
  {
   "cell_type": "code",
   "execution_count": null,
   "metadata": {
    "colab": {
     "base_uri": "https://localhost:8080/"
    },
    "id": "wAwXLsPYdTr9",
    "outputId": "be2e3b3b-0e09-4685-ab00-52d62827910b"
   },
   "outputs": [],
   "source": [
    "# valence between 0.0 and 1.0\n",
    "sum(spotify['valence'] < 0.0) + sum(spotify['valence'] > 1.0)"
   ]
  },
  {
   "cell_type": "code",
   "execution_count": null,
   "metadata": {
    "colab": {
     "base_uri": "https://localhost:8080/"
    },
    "id": "_JZNDcJjew2L",
    "outputId": "6d3792e3-8924-4f44-e9bd-1814fc92f5b9"
   },
   "outputs": [],
   "source": [
    "# positive tempo\n",
    "sum(spotify['tempo'] < 0.0)"
   ]
  },
  {
   "cell_type": "code",
   "execution_count": null,
   "metadata": {
    "colab": {
     "base_uri": "https://localhost:8080/"
    },
    "id": "PWVKyIf6dYsO",
    "outputId": "6d6ed6a8-80b8-4df6-f3e8-73f250101b34"
   },
   "outputs": [],
   "source": [
    "# time signature between 3 and 7 (inclusive)\n",
    "sum(spotify['time_signature'] < 3) + sum(spotify['time_signature'] > 7)"
   ]
  },
  {
   "cell_type": "markdown",
   "metadata": {
    "id": "GcxW47lKnw2A"
   },
   "source": [
    "## Let's visualize some missing values!"
   ]
  },
  {
   "cell_type": "code",
   "execution_count": 34,
   "metadata": {
    "colab": {
     "base_uri": "https://localhost:8080/",
     "height": 542
    },
    "id": "MUnpdgTRnzgi",
    "outputId": "388aa499-0222-443b-cc75-936098e6c2ed"
   },
   "outputs": [
    {
     "ename": "ValueError",
     "evalue": "Mime type rendering requires nbformat>=4.2.0 but it is not installed",
     "output_type": "error",
     "traceback": [
      "\u001b[0;31m---------------------------------------------------------------------------\u001b[0m",
      "\u001b[0;31mValueError\u001b[0m                                Traceback (most recent call last)",
      "File \u001b[0;32m~/anaconda3/envs/datascience/lib/python3.13/site-packages/IPython/core/formatters.py:925\u001b[0m, in \u001b[0;36mIPythonDisplayFormatter.__call__\u001b[0;34m(self, obj)\u001b[0m\n\u001b[1;32m    923\u001b[0m method \u001b[39m=\u001b[39m get_real_method(obj, \u001b[39mself\u001b[39m\u001b[39m.\u001b[39mprint_method)\n\u001b[1;32m    924\u001b[0m \u001b[39mif\u001b[39;00m method \u001b[39mis\u001b[39;00m \u001b[39mnot\u001b[39;00m \u001b[39mNone\u001b[39;00m:\n\u001b[0;32m--> 925\u001b[0m     method()\n\u001b[1;32m    926\u001b[0m     \u001b[39mreturn\u001b[39;00m \u001b[39mTrue\u001b[39;00m\n",
      "File \u001b[0;32m~/anaconda3/envs/datascience/lib/python3.13/site-packages/plotly/basedatatypes.py:832\u001b[0m, in \u001b[0;36mBaseFigure._ipython_display_\u001b[0;34m(self)\u001b[0m\n\u001b[1;32m    829\u001b[0m \u001b[39mimport\u001b[39;00m \u001b[39mplotly\u001b[39;00m\u001b[39m.\u001b[39;00m\u001b[39mio\u001b[39;00m \u001b[39mas\u001b[39;00m \u001b[39mpio\u001b[39;00m\n\u001b[1;32m    831\u001b[0m \u001b[39mif\u001b[39;00m pio\u001b[39m.\u001b[39mrenderers\u001b[39m.\u001b[39mrender_on_display \u001b[39mand\u001b[39;00m pio\u001b[39m.\u001b[39mrenderers\u001b[39m.\u001b[39mdefault:\n\u001b[0;32m--> 832\u001b[0m     pio\u001b[39m.\u001b[39;49mshow(\u001b[39mself\u001b[39;49m)\n\u001b[1;32m    833\u001b[0m \u001b[39melse\u001b[39;00m:\n\u001b[1;32m    834\u001b[0m     \u001b[39mprint\u001b[39m(\u001b[39mrepr\u001b[39m(\u001b[39mself\u001b[39m))\n",
      "File \u001b[0;32m~/anaconda3/envs/datascience/lib/python3.13/site-packages/plotly/io/_renderers.py:394\u001b[0m, in \u001b[0;36mshow\u001b[0;34m(fig, renderer, validate, **kwargs)\u001b[0m\n\u001b[1;32m    389\u001b[0m         \u001b[39mraise\u001b[39;00m \u001b[39mValueError\u001b[39;00m(\n\u001b[1;32m    390\u001b[0m             \u001b[39m\"\u001b[39m\u001b[39mMime type rendering requires ipython but it is not installed\u001b[39m\u001b[39m\"\u001b[39m\n\u001b[1;32m    391\u001b[0m         )\n\u001b[1;32m    393\u001b[0m     \u001b[39mif\u001b[39;00m \u001b[39mnot\u001b[39;00m nbformat \u001b[39mor\u001b[39;00m Version(nbformat\u001b[39m.\u001b[39m__version__) \u001b[39m<\u001b[39m Version(\u001b[39m\"\u001b[39m\u001b[39m4.2.0\u001b[39m\u001b[39m\"\u001b[39m):\n\u001b[0;32m--> 394\u001b[0m         \u001b[39mraise\u001b[39;00m \u001b[39mValueError\u001b[39;00m(\n\u001b[1;32m    395\u001b[0m             \u001b[39m\"\u001b[39m\u001b[39mMime type rendering requires nbformat>=4.2.0 but it is not installed\u001b[39m\u001b[39m\"\u001b[39m\n\u001b[1;32m    396\u001b[0m         )\n\u001b[1;32m    398\u001b[0m     ipython_display\u001b[39m.\u001b[39mdisplay(bundle, raw\u001b[39m=\u001b[39m\u001b[39mTrue\u001b[39;00m)\n\u001b[1;32m    400\u001b[0m \u001b[39m# external renderers\u001b[39;00m\n",
      "\u001b[0;31mValueError\u001b[0m: Mime type rendering requires nbformat>=4.2.0 but it is not installed"
     ]
    },
    {
     "data": {
      "application/vnd.plotly.v1+json": {
       "config": {
        "plotlyServerURL": "https://plot.ly"
       },
       "data": [
        {
         "alignmentgroup": "True",
         "hovertemplate": "track_genre=%{x}<br>tempo=%{y}<extra></extra>",
         "legendgroup": "",
         "marker": {
          "color": "#636efa",
          "pattern": {
           "shape": ""
          }
         },
         "name": "",
         "offsetgroup": "",
         "orientation": "v",
         "showlegend": false,
         "textposition": "auto",
         "type": "bar",
         "x": [
          "acoustic",
          "afrobeat",
          "alt-rock",
          "alternative",
          "ambient",
          "anime",
          "black-metal",
          "bluegrass",
          "blues",
          "brazil",
          "breakbeat",
          "british",
          "cantopop",
          "chicago-house",
          "children",
          "chill",
          "classical",
          "club",
          "comedy",
          "country",
          "dance",
          "dancehall",
          "death-metal",
          "deep-house",
          "detroit-techno",
          "disco",
          "disney",
          "drum-and-bass",
          "dub",
          "dubstep",
          "edm",
          "electro",
          "electronic",
          "emo",
          "folk",
          "forro",
          "french",
          "funk",
          "garage",
          "german",
          "gospel",
          "goth",
          "grindcore",
          "groove",
          "grunge",
          "guitar",
          "happy",
          "hard-rock",
          "hardcore",
          "hardstyle",
          "heavy-metal",
          "hip-hop",
          "honky-tonk",
          "house",
          "idm",
          "indian",
          "indie",
          "indie-pop",
          "industrial",
          "iranian",
          "j-dance",
          "j-idol",
          "j-pop",
          "j-rock",
          "jazz",
          "k-pop",
          "kids",
          "latin",
          "latino",
          "malay",
          "mandopop",
          "metal",
          "metalcore",
          "minimal-techno",
          "mpb",
          "new-age",
          "opera",
          "pagode",
          "party",
          "piano",
          "pop",
          "pop-film",
          "power-pop",
          "progressive-house",
          "psych-rock",
          "punk",
          "punk-rock",
          "r-n-b",
          "reggae",
          "reggaeton",
          "rock",
          "rock-n-roll",
          "rockabilly",
          "romance",
          "sad",
          "salsa",
          "samba",
          "sertanejo",
          "show-tunes",
          "singer-songwriter",
          "ska",
          "sleep",
          "songwriter",
          "soul",
          "spanish",
          "study",
          "swedish",
          "synth-pop",
          "tango",
          "techno",
          "trance",
          "trip-hop",
          "turkish",
          "world-music"
         ],
         "xaxis": "x",
         "y": [
          0,
          0,
          0,
          0,
          3,
          0,
          0,
          0,
          0,
          0,
          0,
          0,
          0,
          0,
          0,
          0,
          0,
          0,
          0,
          0,
          0,
          0,
          0,
          0,
          0,
          0,
          0,
          0,
          0,
          0,
          0,
          0,
          0,
          0,
          0,
          0,
          0,
          0,
          0,
          0,
          0,
          0,
          0,
          0,
          0,
          4,
          0,
          0,
          0,
          0,
          0,
          0,
          0,
          0,
          0,
          0,
          0,
          0,
          0,
          4,
          0,
          0,
          0,
          0,
          1,
          0,
          0,
          0,
          0,
          0,
          0,
          0,
          0,
          0,
          0,
          0,
          2,
          0,
          0,
          0,
          0,
          0,
          0,
          0,
          0,
          0,
          0,
          0,
          0,
          0,
          0,
          0,
          0,
          1,
          0,
          0,
          0,
          0,
          1,
          0,
          0,
          138,
          0,
          0,
          0,
          0,
          0,
          0,
          0,
          0,
          0,
          0,
          0,
          3
         ],
         "yaxis": "y"
        }
       ],
       "layout": {
        "barmode": "relative",
        "legend": {
         "tracegroupgap": 0
        },
        "template": {
         "data": {
          "bar": [
           {
            "error_x": {
             "color": "#2a3f5f"
            },
            "error_y": {
             "color": "#2a3f5f"
            },
            "marker": {
             "line": {
              "color": "#E5ECF6",
              "width": 0.5
             },
             "pattern": {
              "fillmode": "overlay",
              "size": 10,
              "solidity": 0.2
             }
            },
            "type": "bar"
           }
          ],
          "barpolar": [
           {
            "marker": {
             "line": {
              "color": "#E5ECF6",
              "width": 0.5
             },
             "pattern": {
              "fillmode": "overlay",
              "size": 10,
              "solidity": 0.2
             }
            },
            "type": "barpolar"
           }
          ],
          "carpet": [
           {
            "aaxis": {
             "endlinecolor": "#2a3f5f",
             "gridcolor": "white",
             "linecolor": "white",
             "minorgridcolor": "white",
             "startlinecolor": "#2a3f5f"
            },
            "baxis": {
             "endlinecolor": "#2a3f5f",
             "gridcolor": "white",
             "linecolor": "white",
             "minorgridcolor": "white",
             "startlinecolor": "#2a3f5f"
            },
            "type": "carpet"
           }
          ],
          "choropleth": [
           {
            "colorbar": {
             "outlinewidth": 0,
             "ticks": ""
            },
            "type": "choropleth"
           }
          ],
          "contour": [
           {
            "colorbar": {
             "outlinewidth": 0,
             "ticks": ""
            },
            "colorscale": [
             [
              0,
              "#0d0887"
             ],
             [
              0.1111111111111111,
              "#46039f"
             ],
             [
              0.2222222222222222,
              "#7201a8"
             ],
             [
              0.3333333333333333,
              "#9c179e"
             ],
             [
              0.4444444444444444,
              "#bd3786"
             ],
             [
              0.5555555555555556,
              "#d8576b"
             ],
             [
              0.6666666666666666,
              "#ed7953"
             ],
             [
              0.7777777777777778,
              "#fb9f3a"
             ],
             [
              0.8888888888888888,
              "#fdca26"
             ],
             [
              1,
              "#f0f921"
             ]
            ],
            "type": "contour"
           }
          ],
          "contourcarpet": [
           {
            "colorbar": {
             "outlinewidth": 0,
             "ticks": ""
            },
            "type": "contourcarpet"
           }
          ],
          "heatmap": [
           {
            "colorbar": {
             "outlinewidth": 0,
             "ticks": ""
            },
            "colorscale": [
             [
              0,
              "#0d0887"
             ],
             [
              0.1111111111111111,
              "#46039f"
             ],
             [
              0.2222222222222222,
              "#7201a8"
             ],
             [
              0.3333333333333333,
              "#9c179e"
             ],
             [
              0.4444444444444444,
              "#bd3786"
             ],
             [
              0.5555555555555556,
              "#d8576b"
             ],
             [
              0.6666666666666666,
              "#ed7953"
             ],
             [
              0.7777777777777778,
              "#fb9f3a"
             ],
             [
              0.8888888888888888,
              "#fdca26"
             ],
             [
              1,
              "#f0f921"
             ]
            ],
            "type": "heatmap"
           }
          ],
          "heatmapgl": [
           {
            "colorbar": {
             "outlinewidth": 0,
             "ticks": ""
            },
            "colorscale": [
             [
              0,
              "#0d0887"
             ],
             [
              0.1111111111111111,
              "#46039f"
             ],
             [
              0.2222222222222222,
              "#7201a8"
             ],
             [
              0.3333333333333333,
              "#9c179e"
             ],
             [
              0.4444444444444444,
              "#bd3786"
             ],
             [
              0.5555555555555556,
              "#d8576b"
             ],
             [
              0.6666666666666666,
              "#ed7953"
             ],
             [
              0.7777777777777778,
              "#fb9f3a"
             ],
             [
              0.8888888888888888,
              "#fdca26"
             ],
             [
              1,
              "#f0f921"
             ]
            ],
            "type": "heatmapgl"
           }
          ],
          "histogram": [
           {
            "marker": {
             "pattern": {
              "fillmode": "overlay",
              "size": 10,
              "solidity": 0.2
             }
            },
            "type": "histogram"
           }
          ],
          "histogram2d": [
           {
            "colorbar": {
             "outlinewidth": 0,
             "ticks": ""
            },
            "colorscale": [
             [
              0,
              "#0d0887"
             ],
             [
              0.1111111111111111,
              "#46039f"
             ],
             [
              0.2222222222222222,
              "#7201a8"
             ],
             [
              0.3333333333333333,
              "#9c179e"
             ],
             [
              0.4444444444444444,
              "#bd3786"
             ],
             [
              0.5555555555555556,
              "#d8576b"
             ],
             [
              0.6666666666666666,
              "#ed7953"
             ],
             [
              0.7777777777777778,
              "#fb9f3a"
             ],
             [
              0.8888888888888888,
              "#fdca26"
             ],
             [
              1,
              "#f0f921"
             ]
            ],
            "type": "histogram2d"
           }
          ],
          "histogram2dcontour": [
           {
            "colorbar": {
             "outlinewidth": 0,
             "ticks": ""
            },
            "colorscale": [
             [
              0,
              "#0d0887"
             ],
             [
              0.1111111111111111,
              "#46039f"
             ],
             [
              0.2222222222222222,
              "#7201a8"
             ],
             [
              0.3333333333333333,
              "#9c179e"
             ],
             [
              0.4444444444444444,
              "#bd3786"
             ],
             [
              0.5555555555555556,
              "#d8576b"
             ],
             [
              0.6666666666666666,
              "#ed7953"
             ],
             [
              0.7777777777777778,
              "#fb9f3a"
             ],
             [
              0.8888888888888888,
              "#fdca26"
             ],
             [
              1,
              "#f0f921"
             ]
            ],
            "type": "histogram2dcontour"
           }
          ],
          "mesh3d": [
           {
            "colorbar": {
             "outlinewidth": 0,
             "ticks": ""
            },
            "type": "mesh3d"
           }
          ],
          "parcoords": [
           {
            "line": {
             "colorbar": {
              "outlinewidth": 0,
              "ticks": ""
             }
            },
            "type": "parcoords"
           }
          ],
          "pie": [
           {
            "automargin": true,
            "type": "pie"
           }
          ],
          "scatter": [
           {
            "fillpattern": {
             "fillmode": "overlay",
             "size": 10,
             "solidity": 0.2
            },
            "type": "scatter"
           }
          ],
          "scatter3d": [
           {
            "line": {
             "colorbar": {
              "outlinewidth": 0,
              "ticks": ""
             }
            },
            "marker": {
             "colorbar": {
              "outlinewidth": 0,
              "ticks": ""
             }
            },
            "type": "scatter3d"
           }
          ],
          "scattercarpet": [
           {
            "marker": {
             "colorbar": {
              "outlinewidth": 0,
              "ticks": ""
             }
            },
            "type": "scattercarpet"
           }
          ],
          "scattergeo": [
           {
            "marker": {
             "colorbar": {
              "outlinewidth": 0,
              "ticks": ""
             }
            },
            "type": "scattergeo"
           }
          ],
          "scattergl": [
           {
            "marker": {
             "colorbar": {
              "outlinewidth": 0,
              "ticks": ""
             }
            },
            "type": "scattergl"
           }
          ],
          "scattermapbox": [
           {
            "marker": {
             "colorbar": {
              "outlinewidth": 0,
              "ticks": ""
             }
            },
            "type": "scattermapbox"
           }
          ],
          "scatterpolar": [
           {
            "marker": {
             "colorbar": {
              "outlinewidth": 0,
              "ticks": ""
             }
            },
            "type": "scatterpolar"
           }
          ],
          "scatterpolargl": [
           {
            "marker": {
             "colorbar": {
              "outlinewidth": 0,
              "ticks": ""
             }
            },
            "type": "scatterpolargl"
           }
          ],
          "scatterternary": [
           {
            "marker": {
             "colorbar": {
              "outlinewidth": 0,
              "ticks": ""
             }
            },
            "type": "scatterternary"
           }
          ],
          "surface": [
           {
            "colorbar": {
             "outlinewidth": 0,
             "ticks": ""
            },
            "colorscale": [
             [
              0,
              "#0d0887"
             ],
             [
              0.1111111111111111,
              "#46039f"
             ],
             [
              0.2222222222222222,
              "#7201a8"
             ],
             [
              0.3333333333333333,
              "#9c179e"
             ],
             [
              0.4444444444444444,
              "#bd3786"
             ],
             [
              0.5555555555555556,
              "#d8576b"
             ],
             [
              0.6666666666666666,
              "#ed7953"
             ],
             [
              0.7777777777777778,
              "#fb9f3a"
             ],
             [
              0.8888888888888888,
              "#fdca26"
             ],
             [
              1,
              "#f0f921"
             ]
            ],
            "type": "surface"
           }
          ],
          "table": [
           {
            "cells": {
             "fill": {
              "color": "#EBF0F8"
             },
             "line": {
              "color": "white"
             }
            },
            "header": {
             "fill": {
              "color": "#C8D4E3"
             },
             "line": {
              "color": "white"
             }
            },
            "type": "table"
           }
          ]
         },
         "layout": {
          "annotationdefaults": {
           "arrowcolor": "#2a3f5f",
           "arrowhead": 0,
           "arrowwidth": 1
          },
          "autotypenumbers": "strict",
          "coloraxis": {
           "colorbar": {
            "outlinewidth": 0,
            "ticks": ""
           }
          },
          "colorscale": {
           "diverging": [
            [
             0,
             "#8e0152"
            ],
            [
             0.1,
             "#c51b7d"
            ],
            [
             0.2,
             "#de77ae"
            ],
            [
             0.3,
             "#f1b6da"
            ],
            [
             0.4,
             "#fde0ef"
            ],
            [
             0.5,
             "#f7f7f7"
            ],
            [
             0.6,
             "#e6f5d0"
            ],
            [
             0.7,
             "#b8e186"
            ],
            [
             0.8,
             "#7fbc41"
            ],
            [
             0.9,
             "#4d9221"
            ],
            [
             1,
             "#276419"
            ]
           ],
           "sequential": [
            [
             0,
             "#0d0887"
            ],
            [
             0.1111111111111111,
             "#46039f"
            ],
            [
             0.2222222222222222,
             "#7201a8"
            ],
            [
             0.3333333333333333,
             "#9c179e"
            ],
            [
             0.4444444444444444,
             "#bd3786"
            ],
            [
             0.5555555555555556,
             "#d8576b"
            ],
            [
             0.6666666666666666,
             "#ed7953"
            ],
            [
             0.7777777777777778,
             "#fb9f3a"
            ],
            [
             0.8888888888888888,
             "#fdca26"
            ],
            [
             1,
             "#f0f921"
            ]
           ],
           "sequentialminus": [
            [
             0,
             "#0d0887"
            ],
            [
             0.1111111111111111,
             "#46039f"
            ],
            [
             0.2222222222222222,
             "#7201a8"
            ],
            [
             0.3333333333333333,
             "#9c179e"
            ],
            [
             0.4444444444444444,
             "#bd3786"
            ],
            [
             0.5555555555555556,
             "#d8576b"
            ],
            [
             0.6666666666666666,
             "#ed7953"
            ],
            [
             0.7777777777777778,
             "#fb9f3a"
            ],
            [
             0.8888888888888888,
             "#fdca26"
            ],
            [
             1,
             "#f0f921"
            ]
           ]
          },
          "colorway": [
           "#636efa",
           "#EF553B",
           "#00cc96",
           "#ab63fa",
           "#FFA15A",
           "#19d3f3",
           "#FF6692",
           "#B6E880",
           "#FF97FF",
           "#FECB52"
          ],
          "font": {
           "color": "#2a3f5f"
          },
          "geo": {
           "bgcolor": "white",
           "lakecolor": "white",
           "landcolor": "#E5ECF6",
           "showlakes": true,
           "showland": true,
           "subunitcolor": "white"
          },
          "hoverlabel": {
           "align": "left"
          },
          "hovermode": "closest",
          "mapbox": {
           "style": "light"
          },
          "paper_bgcolor": "white",
          "plot_bgcolor": "#E5ECF6",
          "polar": {
           "angularaxis": {
            "gridcolor": "white",
            "linecolor": "white",
            "ticks": ""
           },
           "bgcolor": "#E5ECF6",
           "radialaxis": {
            "gridcolor": "white",
            "linecolor": "white",
            "ticks": ""
           }
          },
          "scene": {
           "xaxis": {
            "backgroundcolor": "#E5ECF6",
            "gridcolor": "white",
            "gridwidth": 2,
            "linecolor": "white",
            "showbackground": true,
            "ticks": "",
            "zerolinecolor": "white"
           },
           "yaxis": {
            "backgroundcolor": "#E5ECF6",
            "gridcolor": "white",
            "gridwidth": 2,
            "linecolor": "white",
            "showbackground": true,
            "ticks": "",
            "zerolinecolor": "white"
           },
           "zaxis": {
            "backgroundcolor": "#E5ECF6",
            "gridcolor": "white",
            "gridwidth": 2,
            "linecolor": "white",
            "showbackground": true,
            "ticks": "",
            "zerolinecolor": "white"
           }
          },
          "shapedefaults": {
           "line": {
            "color": "#2a3f5f"
           }
          },
          "ternary": {
           "aaxis": {
            "gridcolor": "white",
            "linecolor": "white",
            "ticks": ""
           },
           "baxis": {
            "gridcolor": "white",
            "linecolor": "white",
            "ticks": ""
           },
           "bgcolor": "#E5ECF6",
           "caxis": {
            "gridcolor": "white",
            "linecolor": "white",
            "ticks": ""
           }
          },
          "title": {
           "x": 0.05
          },
          "xaxis": {
           "automargin": true,
           "gridcolor": "white",
           "linecolor": "white",
           "ticks": "",
           "title": {
            "standoff": 15
           },
           "zerolinecolor": "white",
           "zerolinewidth": 2
          },
          "yaxis": {
           "automargin": true,
           "gridcolor": "white",
           "linecolor": "white",
           "ticks": "",
           "title": {
            "standoff": 15
           },
           "zerolinecolor": "white",
           "zerolinewidth": 2
          }
         }
        },
        "title": {
         "text": "Zero Tempo Values by Genre"
        },
        "xaxis": {
         "anchor": "y",
         "domain": [
          0,
          1
         ],
         "title": {
          "text": "track_genre"
         }
        },
        "yaxis": {
         "anchor": "x",
         "domain": [
          0,
          1
         ],
         "title": {
          "text": "tempo"
         }
        }
       }
      },
      "text/html": [
       "<div>                        <script type=\"text/javascript\">window.PlotlyConfig = {MathJaxConfig: 'local'};</script>\n",
       "        <script charset=\"utf-8\" src=\"https://cdn.plot.ly/plotly-2.35.2.min.js\"></script>                <div id=\"a93d0c39-7a29-4eb5-8930-8a3486ef9f0b\" class=\"plotly-graph-div\" style=\"height:100%; width:100%;\"></div>            <script type=\"text/javascript\">                                    window.PLOTLYENV=window.PLOTLYENV || {};                                    if (document.getElementById(\"a93d0c39-7a29-4eb5-8930-8a3486ef9f0b\")) {                    Plotly.newPlot(                        \"a93d0c39-7a29-4eb5-8930-8a3486ef9f0b\",                        [{\"alignmentgroup\":\"True\",\"hovertemplate\":\"track_genre=%{x}\\u003cbr\\u003etempo=%{y}\\u003cextra\\u003e\\u003c\\u002fextra\\u003e\",\"legendgroup\":\"\",\"marker\":{\"color\":\"#636efa\",\"pattern\":{\"shape\":\"\"}},\"name\":\"\",\"offsetgroup\":\"\",\"orientation\":\"v\",\"showlegend\":false,\"textposition\":\"auto\",\"x\":[\"acoustic\",\"afrobeat\",\"alt-rock\",\"alternative\",\"ambient\",\"anime\",\"black-metal\",\"bluegrass\",\"blues\",\"brazil\",\"breakbeat\",\"british\",\"cantopop\",\"chicago-house\",\"children\",\"chill\",\"classical\",\"club\",\"comedy\",\"country\",\"dance\",\"dancehall\",\"death-metal\",\"deep-house\",\"detroit-techno\",\"disco\",\"disney\",\"drum-and-bass\",\"dub\",\"dubstep\",\"edm\",\"electro\",\"electronic\",\"emo\",\"folk\",\"forro\",\"french\",\"funk\",\"garage\",\"german\",\"gospel\",\"goth\",\"grindcore\",\"groove\",\"grunge\",\"guitar\",\"happy\",\"hard-rock\",\"hardcore\",\"hardstyle\",\"heavy-metal\",\"hip-hop\",\"honky-tonk\",\"house\",\"idm\",\"indian\",\"indie\",\"indie-pop\",\"industrial\",\"iranian\",\"j-dance\",\"j-idol\",\"j-pop\",\"j-rock\",\"jazz\",\"k-pop\",\"kids\",\"latin\",\"latino\",\"malay\",\"mandopop\",\"metal\",\"metalcore\",\"minimal-techno\",\"mpb\",\"new-age\",\"opera\",\"pagode\",\"party\",\"piano\",\"pop\",\"pop-film\",\"power-pop\",\"progressive-house\",\"psych-rock\",\"punk\",\"punk-rock\",\"r-n-b\",\"reggae\",\"reggaeton\",\"rock\",\"rock-n-roll\",\"rockabilly\",\"romance\",\"sad\",\"salsa\",\"samba\",\"sertanejo\",\"show-tunes\",\"singer-songwriter\",\"ska\",\"sleep\",\"songwriter\",\"soul\",\"spanish\",\"study\",\"swedish\",\"synth-pop\",\"tango\",\"techno\",\"trance\",\"trip-hop\",\"turkish\",\"world-music\"],\"xaxis\":\"x\",\"y\":[0,0,0,0,3,0,0,0,0,0,0,0,0,0,0,0,0,0,0,0,0,0,0,0,0,0,0,0,0,0,0,0,0,0,0,0,0,0,0,0,0,0,0,0,0,4,0,0,0,0,0,0,0,0,0,0,0,0,0,4,0,0,0,0,1,0,0,0,0,0,0,0,0,0,0,0,2,0,0,0,0,0,0,0,0,0,0,0,0,0,0,0,0,1,0,0,0,0,1,0,0,138,0,0,0,0,0,0,0,0,0,0,0,3],\"yaxis\":\"y\",\"type\":\"bar\"}],                        {\"template\":{\"data\":{\"histogram2dcontour\":[{\"type\":\"histogram2dcontour\",\"colorbar\":{\"outlinewidth\":0,\"ticks\":\"\"},\"colorscale\":[[0.0,\"#0d0887\"],[0.1111111111111111,\"#46039f\"],[0.2222222222222222,\"#7201a8\"],[0.3333333333333333,\"#9c179e\"],[0.4444444444444444,\"#bd3786\"],[0.5555555555555556,\"#d8576b\"],[0.6666666666666666,\"#ed7953\"],[0.7777777777777778,\"#fb9f3a\"],[0.8888888888888888,\"#fdca26\"],[1.0,\"#f0f921\"]]}],\"choropleth\":[{\"type\":\"choropleth\",\"colorbar\":{\"outlinewidth\":0,\"ticks\":\"\"}}],\"histogram2d\":[{\"type\":\"histogram2d\",\"colorbar\":{\"outlinewidth\":0,\"ticks\":\"\"},\"colorscale\":[[0.0,\"#0d0887\"],[0.1111111111111111,\"#46039f\"],[0.2222222222222222,\"#7201a8\"],[0.3333333333333333,\"#9c179e\"],[0.4444444444444444,\"#bd3786\"],[0.5555555555555556,\"#d8576b\"],[0.6666666666666666,\"#ed7953\"],[0.7777777777777778,\"#fb9f3a\"],[0.8888888888888888,\"#fdca26\"],[1.0,\"#f0f921\"]]}],\"heatmap\":[{\"type\":\"heatmap\",\"colorbar\":{\"outlinewidth\":0,\"ticks\":\"\"},\"colorscale\":[[0.0,\"#0d0887\"],[0.1111111111111111,\"#46039f\"],[0.2222222222222222,\"#7201a8\"],[0.3333333333333333,\"#9c179e\"],[0.4444444444444444,\"#bd3786\"],[0.5555555555555556,\"#d8576b\"],[0.6666666666666666,\"#ed7953\"],[0.7777777777777778,\"#fb9f3a\"],[0.8888888888888888,\"#fdca26\"],[1.0,\"#f0f921\"]]}],\"heatmapgl\":[{\"type\":\"heatmapgl\",\"colorbar\":{\"outlinewidth\":0,\"ticks\":\"\"},\"colorscale\":[[0.0,\"#0d0887\"],[0.1111111111111111,\"#46039f\"],[0.2222222222222222,\"#7201a8\"],[0.3333333333333333,\"#9c179e\"],[0.4444444444444444,\"#bd3786\"],[0.5555555555555556,\"#d8576b\"],[0.6666666666666666,\"#ed7953\"],[0.7777777777777778,\"#fb9f3a\"],[0.8888888888888888,\"#fdca26\"],[1.0,\"#f0f921\"]]}],\"contourcarpet\":[{\"type\":\"contourcarpet\",\"colorbar\":{\"outlinewidth\":0,\"ticks\":\"\"}}],\"contour\":[{\"type\":\"contour\",\"colorbar\":{\"outlinewidth\":0,\"ticks\":\"\"},\"colorscale\":[[0.0,\"#0d0887\"],[0.1111111111111111,\"#46039f\"],[0.2222222222222222,\"#7201a8\"],[0.3333333333333333,\"#9c179e\"],[0.4444444444444444,\"#bd3786\"],[0.5555555555555556,\"#d8576b\"],[0.6666666666666666,\"#ed7953\"],[0.7777777777777778,\"#fb9f3a\"],[0.8888888888888888,\"#fdca26\"],[1.0,\"#f0f921\"]]}],\"surface\":[{\"type\":\"surface\",\"colorbar\":{\"outlinewidth\":0,\"ticks\":\"\"},\"colorscale\":[[0.0,\"#0d0887\"],[0.1111111111111111,\"#46039f\"],[0.2222222222222222,\"#7201a8\"],[0.3333333333333333,\"#9c179e\"],[0.4444444444444444,\"#bd3786\"],[0.5555555555555556,\"#d8576b\"],[0.6666666666666666,\"#ed7953\"],[0.7777777777777778,\"#fb9f3a\"],[0.8888888888888888,\"#fdca26\"],[1.0,\"#f0f921\"]]}],\"mesh3d\":[{\"type\":\"mesh3d\",\"colorbar\":{\"outlinewidth\":0,\"ticks\":\"\"}}],\"scatter\":[{\"fillpattern\":{\"fillmode\":\"overlay\",\"size\":10,\"solidity\":0.2},\"type\":\"scatter\"}],\"parcoords\":[{\"type\":\"parcoords\",\"line\":{\"colorbar\":{\"outlinewidth\":0,\"ticks\":\"\"}}}],\"scatterpolargl\":[{\"type\":\"scatterpolargl\",\"marker\":{\"colorbar\":{\"outlinewidth\":0,\"ticks\":\"\"}}}],\"bar\":[{\"error_x\":{\"color\":\"#2a3f5f\"},\"error_y\":{\"color\":\"#2a3f5f\"},\"marker\":{\"line\":{\"color\":\"#E5ECF6\",\"width\":0.5},\"pattern\":{\"fillmode\":\"overlay\",\"size\":10,\"solidity\":0.2}},\"type\":\"bar\"}],\"scattergeo\":[{\"type\":\"scattergeo\",\"marker\":{\"colorbar\":{\"outlinewidth\":0,\"ticks\":\"\"}}}],\"scatterpolar\":[{\"type\":\"scatterpolar\",\"marker\":{\"colorbar\":{\"outlinewidth\":0,\"ticks\":\"\"}}}],\"histogram\":[{\"marker\":{\"pattern\":{\"fillmode\":\"overlay\",\"size\":10,\"solidity\":0.2}},\"type\":\"histogram\"}],\"scattergl\":[{\"type\":\"scattergl\",\"marker\":{\"colorbar\":{\"outlinewidth\":0,\"ticks\":\"\"}}}],\"scatter3d\":[{\"type\":\"scatter3d\",\"line\":{\"colorbar\":{\"outlinewidth\":0,\"ticks\":\"\"}},\"marker\":{\"colorbar\":{\"outlinewidth\":0,\"ticks\":\"\"}}}],\"scattermapbox\":[{\"type\":\"scattermapbox\",\"marker\":{\"colorbar\":{\"outlinewidth\":0,\"ticks\":\"\"}}}],\"scatterternary\":[{\"type\":\"scatterternary\",\"marker\":{\"colorbar\":{\"outlinewidth\":0,\"ticks\":\"\"}}}],\"scattercarpet\":[{\"type\":\"scattercarpet\",\"marker\":{\"colorbar\":{\"outlinewidth\":0,\"ticks\":\"\"}}}],\"carpet\":[{\"aaxis\":{\"endlinecolor\":\"#2a3f5f\",\"gridcolor\":\"white\",\"linecolor\":\"white\",\"minorgridcolor\":\"white\",\"startlinecolor\":\"#2a3f5f\"},\"baxis\":{\"endlinecolor\":\"#2a3f5f\",\"gridcolor\":\"white\",\"linecolor\":\"white\",\"minorgridcolor\":\"white\",\"startlinecolor\":\"#2a3f5f\"},\"type\":\"carpet\"}],\"table\":[{\"cells\":{\"fill\":{\"color\":\"#EBF0F8\"},\"line\":{\"color\":\"white\"}},\"header\":{\"fill\":{\"color\":\"#C8D4E3\"},\"line\":{\"color\":\"white\"}},\"type\":\"table\"}],\"barpolar\":[{\"marker\":{\"line\":{\"color\":\"#E5ECF6\",\"width\":0.5},\"pattern\":{\"fillmode\":\"overlay\",\"size\":10,\"solidity\":0.2}},\"type\":\"barpolar\"}],\"pie\":[{\"automargin\":true,\"type\":\"pie\"}]},\"layout\":{\"autotypenumbers\":\"strict\",\"colorway\":[\"#636efa\",\"#EF553B\",\"#00cc96\",\"#ab63fa\",\"#FFA15A\",\"#19d3f3\",\"#FF6692\",\"#B6E880\",\"#FF97FF\",\"#FECB52\"],\"font\":{\"color\":\"#2a3f5f\"},\"hovermode\":\"closest\",\"hoverlabel\":{\"align\":\"left\"},\"paper_bgcolor\":\"white\",\"plot_bgcolor\":\"#E5ECF6\",\"polar\":{\"bgcolor\":\"#E5ECF6\",\"angularaxis\":{\"gridcolor\":\"white\",\"linecolor\":\"white\",\"ticks\":\"\"},\"radialaxis\":{\"gridcolor\":\"white\",\"linecolor\":\"white\",\"ticks\":\"\"}},\"ternary\":{\"bgcolor\":\"#E5ECF6\",\"aaxis\":{\"gridcolor\":\"white\",\"linecolor\":\"white\",\"ticks\":\"\"},\"baxis\":{\"gridcolor\":\"white\",\"linecolor\":\"white\",\"ticks\":\"\"},\"caxis\":{\"gridcolor\":\"white\",\"linecolor\":\"white\",\"ticks\":\"\"}},\"coloraxis\":{\"colorbar\":{\"outlinewidth\":0,\"ticks\":\"\"}},\"colorscale\":{\"sequential\":[[0.0,\"#0d0887\"],[0.1111111111111111,\"#46039f\"],[0.2222222222222222,\"#7201a8\"],[0.3333333333333333,\"#9c179e\"],[0.4444444444444444,\"#bd3786\"],[0.5555555555555556,\"#d8576b\"],[0.6666666666666666,\"#ed7953\"],[0.7777777777777778,\"#fb9f3a\"],[0.8888888888888888,\"#fdca26\"],[1.0,\"#f0f921\"]],\"sequentialminus\":[[0.0,\"#0d0887\"],[0.1111111111111111,\"#46039f\"],[0.2222222222222222,\"#7201a8\"],[0.3333333333333333,\"#9c179e\"],[0.4444444444444444,\"#bd3786\"],[0.5555555555555556,\"#d8576b\"],[0.6666666666666666,\"#ed7953\"],[0.7777777777777778,\"#fb9f3a\"],[0.8888888888888888,\"#fdca26\"],[1.0,\"#f0f921\"]],\"diverging\":[[0,\"#8e0152\"],[0.1,\"#c51b7d\"],[0.2,\"#de77ae\"],[0.3,\"#f1b6da\"],[0.4,\"#fde0ef\"],[0.5,\"#f7f7f7\"],[0.6,\"#e6f5d0\"],[0.7,\"#b8e186\"],[0.8,\"#7fbc41\"],[0.9,\"#4d9221\"],[1,\"#276419\"]]},\"xaxis\":{\"gridcolor\":\"white\",\"linecolor\":\"white\",\"ticks\":\"\",\"title\":{\"standoff\":15},\"zerolinecolor\":\"white\",\"automargin\":true,\"zerolinewidth\":2},\"yaxis\":{\"gridcolor\":\"white\",\"linecolor\":\"white\",\"ticks\":\"\",\"title\":{\"standoff\":15},\"zerolinecolor\":\"white\",\"automargin\":true,\"zerolinewidth\":2},\"scene\":{\"xaxis\":{\"backgroundcolor\":\"#E5ECF6\",\"gridcolor\":\"white\",\"linecolor\":\"white\",\"showbackground\":true,\"ticks\":\"\",\"zerolinecolor\":\"white\",\"gridwidth\":2},\"yaxis\":{\"backgroundcolor\":\"#E5ECF6\",\"gridcolor\":\"white\",\"linecolor\":\"white\",\"showbackground\":true,\"ticks\":\"\",\"zerolinecolor\":\"white\",\"gridwidth\":2},\"zaxis\":{\"backgroundcolor\":\"#E5ECF6\",\"gridcolor\":\"white\",\"linecolor\":\"white\",\"showbackground\":true,\"ticks\":\"\",\"zerolinecolor\":\"white\",\"gridwidth\":2}},\"shapedefaults\":{\"line\":{\"color\":\"#2a3f5f\"}},\"annotationdefaults\":{\"arrowcolor\":\"#2a3f5f\",\"arrowhead\":0,\"arrowwidth\":1},\"geo\":{\"bgcolor\":\"white\",\"landcolor\":\"#E5ECF6\",\"subunitcolor\":\"white\",\"showland\":true,\"showlakes\":true,\"lakecolor\":\"white\"},\"title\":{\"x\":0.05},\"mapbox\":{\"style\":\"light\"}}},\"xaxis\":{\"anchor\":\"y\",\"domain\":[0.0,1.0],\"title\":{\"text\":\"track_genre\"}},\"yaxis\":{\"anchor\":\"x\",\"domain\":[0.0,1.0],\"title\":{\"text\":\"tempo\"}},\"legend\":{\"tracegroupgap\":0},\"title\":{\"text\":\"Zero Tempo Values by Genre\"},\"barmode\":\"relative\"},                        {\"responsive\": true}                    )                };                            </script>        </div>"
      ],
      "text/plain": [
       "Figure({\n",
       "    'data': [{'alignmentgroup': 'True',\n",
       "              'hovertemplate': 'track_genre=%{x}<br>tempo=%{y}<extra></extra>',\n",
       "              'legendgroup': '',\n",
       "              'marker': {'color': '#636efa', 'pattern': {'shape': ''}},\n",
       "              'name': '',\n",
       "              'offsetgroup': '',\n",
       "              'orientation': 'v',\n",
       "              'showlegend': False,\n",
       "              'textposition': 'auto',\n",
       "              'type': 'bar',\n",
       "              'x': array(['acoustic', 'afrobeat', 'alt-rock', 'alternative', 'ambient', 'anime',\n",
       "                          'black-metal', 'bluegrass', 'blues', 'brazil', 'breakbeat', 'british',\n",
       "                          'cantopop', 'chicago-house', 'children', 'chill', 'classical', 'club',\n",
       "                          'comedy', 'country', 'dance', 'dancehall', 'death-metal', 'deep-house',\n",
       "                          'detroit-techno', 'disco', 'disney', 'drum-and-bass', 'dub', 'dubstep',\n",
       "                          'edm', 'electro', 'electronic', 'emo', 'folk', 'forro', 'french',\n",
       "                          'funk', 'garage', 'german', 'gospel', 'goth', 'grindcore', 'groove',\n",
       "                          'grunge', 'guitar', 'happy', 'hard-rock', 'hardcore', 'hardstyle',\n",
       "                          'heavy-metal', 'hip-hop', 'honky-tonk', 'house', 'idm', 'indian',\n",
       "                          'indie', 'indie-pop', 'industrial', 'iranian', 'j-dance', 'j-idol',\n",
       "                          'j-pop', 'j-rock', 'jazz', 'k-pop', 'kids', 'latin', 'latino', 'malay',\n",
       "                          'mandopop', 'metal', 'metalcore', 'minimal-techno', 'mpb', 'new-age',\n",
       "                          'opera', 'pagode', 'party', 'piano', 'pop', 'pop-film', 'power-pop',\n",
       "                          'progressive-house', 'psych-rock', 'punk', 'punk-rock', 'r-n-b',\n",
       "                          'reggae', 'reggaeton', 'rock', 'rock-n-roll', 'rockabilly', 'romance',\n",
       "                          'sad', 'salsa', 'samba', 'sertanejo', 'show-tunes', 'singer-songwriter',\n",
       "                          'ska', 'sleep', 'songwriter', 'soul', 'spanish', 'study', 'swedish',\n",
       "                          'synth-pop', 'tango', 'techno', 'trance', 'trip-hop', 'turkish',\n",
       "                          'world-music'], dtype=object),\n",
       "              'xaxis': 'x',\n",
       "              'y': array([  0,   0,   0,   0,   3,   0,   0,   0,   0,   0,   0,   0,   0,   0,\n",
       "                            0,   0,   0,   0,   0,   0,   0,   0,   0,   0,   0,   0,   0,   0,\n",
       "                            0,   0,   0,   0,   0,   0,   0,   0,   0,   0,   0,   0,   0,   0,\n",
       "                            0,   0,   0,   4,   0,   0,   0,   0,   0,   0,   0,   0,   0,   0,\n",
       "                            0,   0,   0,   4,   0,   0,   0,   0,   1,   0,   0,   0,   0,   0,\n",
       "                            0,   0,   0,   0,   0,   0,   2,   0,   0,   0,   0,   0,   0,   0,\n",
       "                            0,   0,   0,   0,   0,   0,   0,   0,   0,   1,   0,   0,   0,   0,\n",
       "                            1,   0,   0, 138,   0,   0,   0,   0,   0,   0,   0,   0,   0,   0,\n",
       "                            0,   3]),\n",
       "              'yaxis': 'y'}],\n",
       "    'layout': {'barmode': 'relative',\n",
       "               'legend': {'tracegroupgap': 0},\n",
       "               'template': '...',\n",
       "               'title': {'text': 'Zero Tempo Values by Genre'},\n",
       "               'xaxis': {'anchor': 'y', 'domain': [0.0, 1.0], 'title': {'text': 'track_genre'}},\n",
       "               'yaxis': {'anchor': 'x', 'domain': [0.0, 1.0], 'title': {'text': 'tempo'}}}\n",
       "})"
      ]
     },
     "execution_count": 34,
     "metadata": {},
     "output_type": "execute_result"
    }
   ],
   "source": [
    "# identify whether each tempo value is zero\n",
    "# and group by genre (index)\n",
    "# count number of zero values\n",
    "zero_tempo_by_genre = spotify.set_index(\"track_genre\")[\"tempo\"].eq(0).groupby(level=0).sum()\n",
    "\n",
    "# Convert the result to a DataFrame \n",
    "zero_tempo_by_genre_df = zero_tempo_by_genre.reset_index()\n",
    "\n",
    "# Create a bar chart \n",
    "px.bar(zero_tempo_by_genre_df,\n",
    "       x='track_genre',\n",
    "       y='tempo',  # The count of zero tempo values\n",
    "       labels={'0': 'Number of zero tempo values', 'genre': 'Genre'},\n",
    "       title=\"Zero Tempo Values by Genre\")"
   ]
  },
  {
   "cell_type": "code",
   "execution_count": 29,
   "metadata": {},
   "outputs": [
    {
     "ename": "ValueError",
     "evalue": "Mime type rendering requires nbformat>=4.2.0 but it is not installed",
     "output_type": "error",
     "traceback": [
      "\u001b[0;31m---------------------------------------------------------------------------\u001b[0m",
      "\u001b[0;31mValueError\u001b[0m                                Traceback (most recent call last)",
      "File \u001b[0;32m~/anaconda3/envs/datascience/lib/python3.13/site-packages/IPython/core/formatters.py:925\u001b[0m, in \u001b[0;36mIPythonDisplayFormatter.__call__\u001b[0;34m(self, obj)\u001b[0m\n\u001b[1;32m    923\u001b[0m method \u001b[39m=\u001b[39m get_real_method(obj, \u001b[39mself\u001b[39m\u001b[39m.\u001b[39mprint_method)\n\u001b[1;32m    924\u001b[0m \u001b[39mif\u001b[39;00m method \u001b[39mis\u001b[39;00m \u001b[39mnot\u001b[39;00m \u001b[39mNone\u001b[39;00m:\n\u001b[0;32m--> 925\u001b[0m     method()\n\u001b[1;32m    926\u001b[0m     \u001b[39mreturn\u001b[39;00m \u001b[39mTrue\u001b[39;00m\n",
      "File \u001b[0;32m~/anaconda3/envs/datascience/lib/python3.13/site-packages/plotly/basedatatypes.py:832\u001b[0m, in \u001b[0;36mBaseFigure._ipython_display_\u001b[0;34m(self)\u001b[0m\n\u001b[1;32m    829\u001b[0m \u001b[39mimport\u001b[39;00m \u001b[39mplotly\u001b[39;00m\u001b[39m.\u001b[39;00m\u001b[39mio\u001b[39;00m \u001b[39mas\u001b[39;00m \u001b[39mpio\u001b[39;00m\n\u001b[1;32m    831\u001b[0m \u001b[39mif\u001b[39;00m pio\u001b[39m.\u001b[39mrenderers\u001b[39m.\u001b[39mrender_on_display \u001b[39mand\u001b[39;00m pio\u001b[39m.\u001b[39mrenderers\u001b[39m.\u001b[39mdefault:\n\u001b[0;32m--> 832\u001b[0m     pio\u001b[39m.\u001b[39;49mshow(\u001b[39mself\u001b[39;49m)\n\u001b[1;32m    833\u001b[0m \u001b[39melse\u001b[39;00m:\n\u001b[1;32m    834\u001b[0m     \u001b[39mprint\u001b[39m(\u001b[39mrepr\u001b[39m(\u001b[39mself\u001b[39m))\n",
      "File \u001b[0;32m~/anaconda3/envs/datascience/lib/python3.13/site-packages/plotly/io/_renderers.py:394\u001b[0m, in \u001b[0;36mshow\u001b[0;34m(fig, renderer, validate, **kwargs)\u001b[0m\n\u001b[1;32m    389\u001b[0m         \u001b[39mraise\u001b[39;00m \u001b[39mValueError\u001b[39;00m(\n\u001b[1;32m    390\u001b[0m             \u001b[39m\"\u001b[39m\u001b[39mMime type rendering requires ipython but it is not installed\u001b[39m\u001b[39m\"\u001b[39m\n\u001b[1;32m    391\u001b[0m         )\n\u001b[1;32m    393\u001b[0m     \u001b[39mif\u001b[39;00m \u001b[39mnot\u001b[39;00m nbformat \u001b[39mor\u001b[39;00m Version(nbformat\u001b[39m.\u001b[39m__version__) \u001b[39m<\u001b[39m Version(\u001b[39m\"\u001b[39m\u001b[39m4.2.0\u001b[39m\u001b[39m\"\u001b[39m):\n\u001b[0;32m--> 394\u001b[0m         \u001b[39mraise\u001b[39;00m \u001b[39mValueError\u001b[39;00m(\n\u001b[1;32m    395\u001b[0m             \u001b[39m\"\u001b[39m\u001b[39mMime type rendering requires nbformat>=4.2.0 but it is not installed\u001b[39m\u001b[39m\"\u001b[39m\n\u001b[1;32m    396\u001b[0m         )\n\u001b[1;32m    398\u001b[0m     ipython_display\u001b[39m.\u001b[39mdisplay(bundle, raw\u001b[39m=\u001b[39m\u001b[39mTrue\u001b[39;00m)\n\u001b[1;32m    400\u001b[0m \u001b[39m# external renderers\u001b[39;00m\n",
      "\u001b[0;31mValueError\u001b[0m: Mime type rendering requires nbformat>=4.2.0 but it is not installed"
     ]
    },
    {
     "data": {
      "application/vnd.plotly.v1+json": {
       "config": {
        "plotlyServerURL": "https://plot.ly"
       },
       "data": [
        {
         "alignmentgroup": "True",
         "hovertemplate": "track_genre=%{x}<br>valence=%{y}<extra></extra>",
         "legendgroup": "",
         "marker": {
          "color": "#636efa",
          "pattern": {
           "shape": ""
          }
         },
         "name": "",
         "offsetgroup": "",
         "orientation": "v",
         "showlegend": false,
         "textposition": "auto",
         "type": "bar",
         "x": [
          "acoustic",
          "afrobeat",
          "alt-rock",
          "alternative",
          "ambient",
          "anime",
          "black-metal",
          "bluegrass",
          "blues",
          "brazil",
          "breakbeat",
          "british",
          "cantopop",
          "chicago-house",
          "children",
          "chill",
          "classical",
          "club",
          "comedy",
          "country",
          "dance",
          "dancehall",
          "death-metal",
          "deep-house",
          "detroit-techno",
          "disco",
          "disney",
          "drum-and-bass",
          "dub",
          "dubstep",
          "edm",
          "electro",
          "electronic",
          "emo",
          "folk",
          "forro",
          "french",
          "funk",
          "garage",
          "german",
          "gospel",
          "goth",
          "grindcore",
          "groove",
          "grunge",
          "guitar",
          "happy",
          "hard-rock",
          "hardcore",
          "hardstyle",
          "heavy-metal",
          "hip-hop",
          "honky-tonk",
          "house",
          "idm",
          "indian",
          "indie",
          "indie-pop",
          "industrial",
          "iranian",
          "j-dance",
          "j-idol",
          "j-pop",
          "j-rock",
          "jazz",
          "k-pop",
          "kids",
          "latin",
          "latino",
          "malay",
          "mandopop",
          "metal",
          "metalcore",
          "minimal-techno",
          "mpb",
          "new-age",
          "opera",
          "pagode",
          "party",
          "piano",
          "pop",
          "pop-film",
          "power-pop",
          "progressive-house",
          "psych-rock",
          "punk",
          "punk-rock",
          "r-n-b",
          "reggae",
          "reggaeton",
          "rock",
          "rock-n-roll",
          "rockabilly",
          "romance",
          "sad",
          "salsa",
          "samba",
          "sertanejo",
          "show-tunes",
          "singer-songwriter",
          "ska",
          "sleep",
          "songwriter",
          "soul",
          "spanish",
          "study",
          "swedish",
          "synth-pop",
          "tango",
          "techno",
          "trance",
          "trip-hop",
          "turkish",
          "world-music"
         ],
         "xaxis": "x",
         "y": [
          0,
          0,
          0,
          0,
          3,
          0,
          0,
          0,
          0,
          0,
          0,
          0,
          0,
          0,
          0,
          0,
          1,
          0,
          0,
          0,
          0,
          0,
          0,
          0,
          0,
          0,
          1,
          0,
          0,
          0,
          0,
          0,
          0,
          0,
          0,
          0,
          0,
          0,
          0,
          0,
          0,
          0,
          1,
          0,
          0,
          5,
          0,
          0,
          0,
          0,
          0,
          0,
          0,
          0,
          0,
          0,
          0,
          0,
          0,
          7,
          0,
          0,
          0,
          0,
          1,
          0,
          0,
          0,
          0,
          0,
          0,
          0,
          0,
          0,
          0,
          0,
          2,
          0,
          0,
          0,
          0,
          0,
          0,
          0,
          0,
          0,
          0,
          0,
          0,
          0,
          0,
          0,
          0,
          1,
          0,
          0,
          0,
          0,
          1,
          0,
          0,
          150,
          0,
          0,
          0,
          0,
          0,
          0,
          0,
          0,
          0,
          0,
          0,
          3
         ],
         "yaxis": "y"
        }
       ],
       "layout": {
        "barmode": "relative",
        "legend": {
         "tracegroupgap": 0
        },
        "template": {
         "data": {
          "bar": [
           {
            "error_x": {
             "color": "#2a3f5f"
            },
            "error_y": {
             "color": "#2a3f5f"
            },
            "marker": {
             "line": {
              "color": "#E5ECF6",
              "width": 0.5
             },
             "pattern": {
              "fillmode": "overlay",
              "size": 10,
              "solidity": 0.2
             }
            },
            "type": "bar"
           }
          ],
          "barpolar": [
           {
            "marker": {
             "line": {
              "color": "#E5ECF6",
              "width": 0.5
             },
             "pattern": {
              "fillmode": "overlay",
              "size": 10,
              "solidity": 0.2
             }
            },
            "type": "barpolar"
           }
          ],
          "carpet": [
           {
            "aaxis": {
             "endlinecolor": "#2a3f5f",
             "gridcolor": "white",
             "linecolor": "white",
             "minorgridcolor": "white",
             "startlinecolor": "#2a3f5f"
            },
            "baxis": {
             "endlinecolor": "#2a3f5f",
             "gridcolor": "white",
             "linecolor": "white",
             "minorgridcolor": "white",
             "startlinecolor": "#2a3f5f"
            },
            "type": "carpet"
           }
          ],
          "choropleth": [
           {
            "colorbar": {
             "outlinewidth": 0,
             "ticks": ""
            },
            "type": "choropleth"
           }
          ],
          "contour": [
           {
            "colorbar": {
             "outlinewidth": 0,
             "ticks": ""
            },
            "colorscale": [
             [
              0,
              "#0d0887"
             ],
             [
              0.1111111111111111,
              "#46039f"
             ],
             [
              0.2222222222222222,
              "#7201a8"
             ],
             [
              0.3333333333333333,
              "#9c179e"
             ],
             [
              0.4444444444444444,
              "#bd3786"
             ],
             [
              0.5555555555555556,
              "#d8576b"
             ],
             [
              0.6666666666666666,
              "#ed7953"
             ],
             [
              0.7777777777777778,
              "#fb9f3a"
             ],
             [
              0.8888888888888888,
              "#fdca26"
             ],
             [
              1,
              "#f0f921"
             ]
            ],
            "type": "contour"
           }
          ],
          "contourcarpet": [
           {
            "colorbar": {
             "outlinewidth": 0,
             "ticks": ""
            },
            "type": "contourcarpet"
           }
          ],
          "heatmap": [
           {
            "colorbar": {
             "outlinewidth": 0,
             "ticks": ""
            },
            "colorscale": [
             [
              0,
              "#0d0887"
             ],
             [
              0.1111111111111111,
              "#46039f"
             ],
             [
              0.2222222222222222,
              "#7201a8"
             ],
             [
              0.3333333333333333,
              "#9c179e"
             ],
             [
              0.4444444444444444,
              "#bd3786"
             ],
             [
              0.5555555555555556,
              "#d8576b"
             ],
             [
              0.6666666666666666,
              "#ed7953"
             ],
             [
              0.7777777777777778,
              "#fb9f3a"
             ],
             [
              0.8888888888888888,
              "#fdca26"
             ],
             [
              1,
              "#f0f921"
             ]
            ],
            "type": "heatmap"
           }
          ],
          "heatmapgl": [
           {
            "colorbar": {
             "outlinewidth": 0,
             "ticks": ""
            },
            "colorscale": [
             [
              0,
              "#0d0887"
             ],
             [
              0.1111111111111111,
              "#46039f"
             ],
             [
              0.2222222222222222,
              "#7201a8"
             ],
             [
              0.3333333333333333,
              "#9c179e"
             ],
             [
              0.4444444444444444,
              "#bd3786"
             ],
             [
              0.5555555555555556,
              "#d8576b"
             ],
             [
              0.6666666666666666,
              "#ed7953"
             ],
             [
              0.7777777777777778,
              "#fb9f3a"
             ],
             [
              0.8888888888888888,
              "#fdca26"
             ],
             [
              1,
              "#f0f921"
             ]
            ],
            "type": "heatmapgl"
           }
          ],
          "histogram": [
           {
            "marker": {
             "pattern": {
              "fillmode": "overlay",
              "size": 10,
              "solidity": 0.2
             }
            },
            "type": "histogram"
           }
          ],
          "histogram2d": [
           {
            "colorbar": {
             "outlinewidth": 0,
             "ticks": ""
            },
            "colorscale": [
             [
              0,
              "#0d0887"
             ],
             [
              0.1111111111111111,
              "#46039f"
             ],
             [
              0.2222222222222222,
              "#7201a8"
             ],
             [
              0.3333333333333333,
              "#9c179e"
             ],
             [
              0.4444444444444444,
              "#bd3786"
             ],
             [
              0.5555555555555556,
              "#d8576b"
             ],
             [
              0.6666666666666666,
              "#ed7953"
             ],
             [
              0.7777777777777778,
              "#fb9f3a"
             ],
             [
              0.8888888888888888,
              "#fdca26"
             ],
             [
              1,
              "#f0f921"
             ]
            ],
            "type": "histogram2d"
           }
          ],
          "histogram2dcontour": [
           {
            "colorbar": {
             "outlinewidth": 0,
             "ticks": ""
            },
            "colorscale": [
             [
              0,
              "#0d0887"
             ],
             [
              0.1111111111111111,
              "#46039f"
             ],
             [
              0.2222222222222222,
              "#7201a8"
             ],
             [
              0.3333333333333333,
              "#9c179e"
             ],
             [
              0.4444444444444444,
              "#bd3786"
             ],
             [
              0.5555555555555556,
              "#d8576b"
             ],
             [
              0.6666666666666666,
              "#ed7953"
             ],
             [
              0.7777777777777778,
              "#fb9f3a"
             ],
             [
              0.8888888888888888,
              "#fdca26"
             ],
             [
              1,
              "#f0f921"
             ]
            ],
            "type": "histogram2dcontour"
           }
          ],
          "mesh3d": [
           {
            "colorbar": {
             "outlinewidth": 0,
             "ticks": ""
            },
            "type": "mesh3d"
           }
          ],
          "parcoords": [
           {
            "line": {
             "colorbar": {
              "outlinewidth": 0,
              "ticks": ""
             }
            },
            "type": "parcoords"
           }
          ],
          "pie": [
           {
            "automargin": true,
            "type": "pie"
           }
          ],
          "scatter": [
           {
            "fillpattern": {
             "fillmode": "overlay",
             "size": 10,
             "solidity": 0.2
            },
            "type": "scatter"
           }
          ],
          "scatter3d": [
           {
            "line": {
             "colorbar": {
              "outlinewidth": 0,
              "ticks": ""
             }
            },
            "marker": {
             "colorbar": {
              "outlinewidth": 0,
              "ticks": ""
             }
            },
            "type": "scatter3d"
           }
          ],
          "scattercarpet": [
           {
            "marker": {
             "colorbar": {
              "outlinewidth": 0,
              "ticks": ""
             }
            },
            "type": "scattercarpet"
           }
          ],
          "scattergeo": [
           {
            "marker": {
             "colorbar": {
              "outlinewidth": 0,
              "ticks": ""
             }
            },
            "type": "scattergeo"
           }
          ],
          "scattergl": [
           {
            "marker": {
             "colorbar": {
              "outlinewidth": 0,
              "ticks": ""
             }
            },
            "type": "scattergl"
           }
          ],
          "scattermapbox": [
           {
            "marker": {
             "colorbar": {
              "outlinewidth": 0,
              "ticks": ""
             }
            },
            "type": "scattermapbox"
           }
          ],
          "scatterpolar": [
           {
            "marker": {
             "colorbar": {
              "outlinewidth": 0,
              "ticks": ""
             }
            },
            "type": "scatterpolar"
           }
          ],
          "scatterpolargl": [
           {
            "marker": {
             "colorbar": {
              "outlinewidth": 0,
              "ticks": ""
             }
            },
            "type": "scatterpolargl"
           }
          ],
          "scatterternary": [
           {
            "marker": {
             "colorbar": {
              "outlinewidth": 0,
              "ticks": ""
             }
            },
            "type": "scatterternary"
           }
          ],
          "surface": [
           {
            "colorbar": {
             "outlinewidth": 0,
             "ticks": ""
            },
            "colorscale": [
             [
              0,
              "#0d0887"
             ],
             [
              0.1111111111111111,
              "#46039f"
             ],
             [
              0.2222222222222222,
              "#7201a8"
             ],
             [
              0.3333333333333333,
              "#9c179e"
             ],
             [
              0.4444444444444444,
              "#bd3786"
             ],
             [
              0.5555555555555556,
              "#d8576b"
             ],
             [
              0.6666666666666666,
              "#ed7953"
             ],
             [
              0.7777777777777778,
              "#fb9f3a"
             ],
             [
              0.8888888888888888,
              "#fdca26"
             ],
             [
              1,
              "#f0f921"
             ]
            ],
            "type": "surface"
           }
          ],
          "table": [
           {
            "cells": {
             "fill": {
              "color": "#EBF0F8"
             },
             "line": {
              "color": "white"
             }
            },
            "header": {
             "fill": {
              "color": "#C8D4E3"
             },
             "line": {
              "color": "white"
             }
            },
            "type": "table"
           }
          ]
         },
         "layout": {
          "annotationdefaults": {
           "arrowcolor": "#2a3f5f",
           "arrowhead": 0,
           "arrowwidth": 1
          },
          "autotypenumbers": "strict",
          "coloraxis": {
           "colorbar": {
            "outlinewidth": 0,
            "ticks": ""
           }
          },
          "colorscale": {
           "diverging": [
            [
             0,
             "#8e0152"
            ],
            [
             0.1,
             "#c51b7d"
            ],
            [
             0.2,
             "#de77ae"
            ],
            [
             0.3,
             "#f1b6da"
            ],
            [
             0.4,
             "#fde0ef"
            ],
            [
             0.5,
             "#f7f7f7"
            ],
            [
             0.6,
             "#e6f5d0"
            ],
            [
             0.7,
             "#b8e186"
            ],
            [
             0.8,
             "#7fbc41"
            ],
            [
             0.9,
             "#4d9221"
            ],
            [
             1,
             "#276419"
            ]
           ],
           "sequential": [
            [
             0,
             "#0d0887"
            ],
            [
             0.1111111111111111,
             "#46039f"
            ],
            [
             0.2222222222222222,
             "#7201a8"
            ],
            [
             0.3333333333333333,
             "#9c179e"
            ],
            [
             0.4444444444444444,
             "#bd3786"
            ],
            [
             0.5555555555555556,
             "#d8576b"
            ],
            [
             0.6666666666666666,
             "#ed7953"
            ],
            [
             0.7777777777777778,
             "#fb9f3a"
            ],
            [
             0.8888888888888888,
             "#fdca26"
            ],
            [
             1,
             "#f0f921"
            ]
           ],
           "sequentialminus": [
            [
             0,
             "#0d0887"
            ],
            [
             0.1111111111111111,
             "#46039f"
            ],
            [
             0.2222222222222222,
             "#7201a8"
            ],
            [
             0.3333333333333333,
             "#9c179e"
            ],
            [
             0.4444444444444444,
             "#bd3786"
            ],
            [
             0.5555555555555556,
             "#d8576b"
            ],
            [
             0.6666666666666666,
             "#ed7953"
            ],
            [
             0.7777777777777778,
             "#fb9f3a"
            ],
            [
             0.8888888888888888,
             "#fdca26"
            ],
            [
             1,
             "#f0f921"
            ]
           ]
          },
          "colorway": [
           "#636efa",
           "#EF553B",
           "#00cc96",
           "#ab63fa",
           "#FFA15A",
           "#19d3f3",
           "#FF6692",
           "#B6E880",
           "#FF97FF",
           "#FECB52"
          ],
          "font": {
           "color": "#2a3f5f"
          },
          "geo": {
           "bgcolor": "white",
           "lakecolor": "white",
           "landcolor": "#E5ECF6",
           "showlakes": true,
           "showland": true,
           "subunitcolor": "white"
          },
          "hoverlabel": {
           "align": "left"
          },
          "hovermode": "closest",
          "mapbox": {
           "style": "light"
          },
          "paper_bgcolor": "white",
          "plot_bgcolor": "#E5ECF6",
          "polar": {
           "angularaxis": {
            "gridcolor": "white",
            "linecolor": "white",
            "ticks": ""
           },
           "bgcolor": "#E5ECF6",
           "radialaxis": {
            "gridcolor": "white",
            "linecolor": "white",
            "ticks": ""
           }
          },
          "scene": {
           "xaxis": {
            "backgroundcolor": "#E5ECF6",
            "gridcolor": "white",
            "gridwidth": 2,
            "linecolor": "white",
            "showbackground": true,
            "ticks": "",
            "zerolinecolor": "white"
           },
           "yaxis": {
            "backgroundcolor": "#E5ECF6",
            "gridcolor": "white",
            "gridwidth": 2,
            "linecolor": "white",
            "showbackground": true,
            "ticks": "",
            "zerolinecolor": "white"
           },
           "zaxis": {
            "backgroundcolor": "#E5ECF6",
            "gridcolor": "white",
            "gridwidth": 2,
            "linecolor": "white",
            "showbackground": true,
            "ticks": "",
            "zerolinecolor": "white"
           }
          },
          "shapedefaults": {
           "line": {
            "color": "#2a3f5f"
           }
          },
          "ternary": {
           "aaxis": {
            "gridcolor": "white",
            "linecolor": "white",
            "ticks": ""
           },
           "baxis": {
            "gridcolor": "white",
            "linecolor": "white",
            "ticks": ""
           },
           "bgcolor": "#E5ECF6",
           "caxis": {
            "gridcolor": "white",
            "linecolor": "white",
            "ticks": ""
           }
          },
          "title": {
           "x": 0.05
          },
          "xaxis": {
           "automargin": true,
           "gridcolor": "white",
           "linecolor": "white",
           "ticks": "",
           "title": {
            "standoff": 15
           },
           "zerolinecolor": "white",
           "zerolinewidth": 2
          },
          "yaxis": {
           "automargin": true,
           "gridcolor": "white",
           "linecolor": "white",
           "ticks": "",
           "title": {
            "standoff": 15
           },
           "zerolinecolor": "white",
           "zerolinewidth": 2
          }
         }
        },
        "title": {
         "text": "Zero Valence Values by Genre"
        },
        "xaxis": {
         "anchor": "y",
         "domain": [
          0,
          1
         ],
         "title": {
          "text": "track_genre"
         }
        },
        "yaxis": {
         "anchor": "x",
         "domain": [
          0,
          1
         ],
         "title": {
          "text": "valence"
         }
        }
       }
      },
      "text/html": [
       "<div>                        <script type=\"text/javascript\">window.PlotlyConfig = {MathJaxConfig: 'local'};</script>\n",
       "        <script charset=\"utf-8\" src=\"https://cdn.plot.ly/plotly-2.35.2.min.js\"></script>                <div id=\"93d432bd-938d-47cf-b8ce-65ff15e1c4d0\" class=\"plotly-graph-div\" style=\"height:100%; width:100%;\"></div>            <script type=\"text/javascript\">                                    window.PLOTLYENV=window.PLOTLYENV || {};                                    if (document.getElementById(\"93d432bd-938d-47cf-b8ce-65ff15e1c4d0\")) {                    Plotly.newPlot(                        \"93d432bd-938d-47cf-b8ce-65ff15e1c4d0\",                        [{\"alignmentgroup\":\"True\",\"hovertemplate\":\"track_genre=%{x}\\u003cbr\\u003evalence=%{y}\\u003cextra\\u003e\\u003c\\u002fextra\\u003e\",\"legendgroup\":\"\",\"marker\":{\"color\":\"#636efa\",\"pattern\":{\"shape\":\"\"}},\"name\":\"\",\"offsetgroup\":\"\",\"orientation\":\"v\",\"showlegend\":false,\"textposition\":\"auto\",\"x\":[\"acoustic\",\"afrobeat\",\"alt-rock\",\"alternative\",\"ambient\",\"anime\",\"black-metal\",\"bluegrass\",\"blues\",\"brazil\",\"breakbeat\",\"british\",\"cantopop\",\"chicago-house\",\"children\",\"chill\",\"classical\",\"club\",\"comedy\",\"country\",\"dance\",\"dancehall\",\"death-metal\",\"deep-house\",\"detroit-techno\",\"disco\",\"disney\",\"drum-and-bass\",\"dub\",\"dubstep\",\"edm\",\"electro\",\"electronic\",\"emo\",\"folk\",\"forro\",\"french\",\"funk\",\"garage\",\"german\",\"gospel\",\"goth\",\"grindcore\",\"groove\",\"grunge\",\"guitar\",\"happy\",\"hard-rock\",\"hardcore\",\"hardstyle\",\"heavy-metal\",\"hip-hop\",\"honky-tonk\",\"house\",\"idm\",\"indian\",\"indie\",\"indie-pop\",\"industrial\",\"iranian\",\"j-dance\",\"j-idol\",\"j-pop\",\"j-rock\",\"jazz\",\"k-pop\",\"kids\",\"latin\",\"latino\",\"malay\",\"mandopop\",\"metal\",\"metalcore\",\"minimal-techno\",\"mpb\",\"new-age\",\"opera\",\"pagode\",\"party\",\"piano\",\"pop\",\"pop-film\",\"power-pop\",\"progressive-house\",\"psych-rock\",\"punk\",\"punk-rock\",\"r-n-b\",\"reggae\",\"reggaeton\",\"rock\",\"rock-n-roll\",\"rockabilly\",\"romance\",\"sad\",\"salsa\",\"samba\",\"sertanejo\",\"show-tunes\",\"singer-songwriter\",\"ska\",\"sleep\",\"songwriter\",\"soul\",\"spanish\",\"study\",\"swedish\",\"synth-pop\",\"tango\",\"techno\",\"trance\",\"trip-hop\",\"turkish\",\"world-music\"],\"xaxis\":\"x\",\"y\":[0,0,0,0,3,0,0,0,0,0,0,0,0,0,0,0,1,0,0,0,0,0,0,0,0,0,1,0,0,0,0,0,0,0,0,0,0,0,0,0,0,0,1,0,0,5,0,0,0,0,0,0,0,0,0,0,0,0,0,7,0,0,0,0,1,0,0,0,0,0,0,0,0,0,0,0,2,0,0,0,0,0,0,0,0,0,0,0,0,0,0,0,0,1,0,0,0,0,1,0,0,150,0,0,0,0,0,0,0,0,0,0,0,3],\"yaxis\":\"y\",\"type\":\"bar\"}],                        {\"template\":{\"data\":{\"histogram2dcontour\":[{\"type\":\"histogram2dcontour\",\"colorbar\":{\"outlinewidth\":0,\"ticks\":\"\"},\"colorscale\":[[0.0,\"#0d0887\"],[0.1111111111111111,\"#46039f\"],[0.2222222222222222,\"#7201a8\"],[0.3333333333333333,\"#9c179e\"],[0.4444444444444444,\"#bd3786\"],[0.5555555555555556,\"#d8576b\"],[0.6666666666666666,\"#ed7953\"],[0.7777777777777778,\"#fb9f3a\"],[0.8888888888888888,\"#fdca26\"],[1.0,\"#f0f921\"]]}],\"choropleth\":[{\"type\":\"choropleth\",\"colorbar\":{\"outlinewidth\":0,\"ticks\":\"\"}}],\"histogram2d\":[{\"type\":\"histogram2d\",\"colorbar\":{\"outlinewidth\":0,\"ticks\":\"\"},\"colorscale\":[[0.0,\"#0d0887\"],[0.1111111111111111,\"#46039f\"],[0.2222222222222222,\"#7201a8\"],[0.3333333333333333,\"#9c179e\"],[0.4444444444444444,\"#bd3786\"],[0.5555555555555556,\"#d8576b\"],[0.6666666666666666,\"#ed7953\"],[0.7777777777777778,\"#fb9f3a\"],[0.8888888888888888,\"#fdca26\"],[1.0,\"#f0f921\"]]}],\"heatmap\":[{\"type\":\"heatmap\",\"colorbar\":{\"outlinewidth\":0,\"ticks\":\"\"},\"colorscale\":[[0.0,\"#0d0887\"],[0.1111111111111111,\"#46039f\"],[0.2222222222222222,\"#7201a8\"],[0.3333333333333333,\"#9c179e\"],[0.4444444444444444,\"#bd3786\"],[0.5555555555555556,\"#d8576b\"],[0.6666666666666666,\"#ed7953\"],[0.7777777777777778,\"#fb9f3a\"],[0.8888888888888888,\"#fdca26\"],[1.0,\"#f0f921\"]]}],\"heatmapgl\":[{\"type\":\"heatmapgl\",\"colorbar\":{\"outlinewidth\":0,\"ticks\":\"\"},\"colorscale\":[[0.0,\"#0d0887\"],[0.1111111111111111,\"#46039f\"],[0.2222222222222222,\"#7201a8\"],[0.3333333333333333,\"#9c179e\"],[0.4444444444444444,\"#bd3786\"],[0.5555555555555556,\"#d8576b\"],[0.6666666666666666,\"#ed7953\"],[0.7777777777777778,\"#fb9f3a\"],[0.8888888888888888,\"#fdca26\"],[1.0,\"#f0f921\"]]}],\"contourcarpet\":[{\"type\":\"contourcarpet\",\"colorbar\":{\"outlinewidth\":0,\"ticks\":\"\"}}],\"contour\":[{\"type\":\"contour\",\"colorbar\":{\"outlinewidth\":0,\"ticks\":\"\"},\"colorscale\":[[0.0,\"#0d0887\"],[0.1111111111111111,\"#46039f\"],[0.2222222222222222,\"#7201a8\"],[0.3333333333333333,\"#9c179e\"],[0.4444444444444444,\"#bd3786\"],[0.5555555555555556,\"#d8576b\"],[0.6666666666666666,\"#ed7953\"],[0.7777777777777778,\"#fb9f3a\"],[0.8888888888888888,\"#fdca26\"],[1.0,\"#f0f921\"]]}],\"surface\":[{\"type\":\"surface\",\"colorbar\":{\"outlinewidth\":0,\"ticks\":\"\"},\"colorscale\":[[0.0,\"#0d0887\"],[0.1111111111111111,\"#46039f\"],[0.2222222222222222,\"#7201a8\"],[0.3333333333333333,\"#9c179e\"],[0.4444444444444444,\"#bd3786\"],[0.5555555555555556,\"#d8576b\"],[0.6666666666666666,\"#ed7953\"],[0.7777777777777778,\"#fb9f3a\"],[0.8888888888888888,\"#fdca26\"],[1.0,\"#f0f921\"]]}],\"mesh3d\":[{\"type\":\"mesh3d\",\"colorbar\":{\"outlinewidth\":0,\"ticks\":\"\"}}],\"scatter\":[{\"fillpattern\":{\"fillmode\":\"overlay\",\"size\":10,\"solidity\":0.2},\"type\":\"scatter\"}],\"parcoords\":[{\"type\":\"parcoords\",\"line\":{\"colorbar\":{\"outlinewidth\":0,\"ticks\":\"\"}}}],\"scatterpolargl\":[{\"type\":\"scatterpolargl\",\"marker\":{\"colorbar\":{\"outlinewidth\":0,\"ticks\":\"\"}}}],\"bar\":[{\"error_x\":{\"color\":\"#2a3f5f\"},\"error_y\":{\"color\":\"#2a3f5f\"},\"marker\":{\"line\":{\"color\":\"#E5ECF6\",\"width\":0.5},\"pattern\":{\"fillmode\":\"overlay\",\"size\":10,\"solidity\":0.2}},\"type\":\"bar\"}],\"scattergeo\":[{\"type\":\"scattergeo\",\"marker\":{\"colorbar\":{\"outlinewidth\":0,\"ticks\":\"\"}}}],\"scatterpolar\":[{\"type\":\"scatterpolar\",\"marker\":{\"colorbar\":{\"outlinewidth\":0,\"ticks\":\"\"}}}],\"histogram\":[{\"marker\":{\"pattern\":{\"fillmode\":\"overlay\",\"size\":10,\"solidity\":0.2}},\"type\":\"histogram\"}],\"scattergl\":[{\"type\":\"scattergl\",\"marker\":{\"colorbar\":{\"outlinewidth\":0,\"ticks\":\"\"}}}],\"scatter3d\":[{\"type\":\"scatter3d\",\"line\":{\"colorbar\":{\"outlinewidth\":0,\"ticks\":\"\"}},\"marker\":{\"colorbar\":{\"outlinewidth\":0,\"ticks\":\"\"}}}],\"scattermapbox\":[{\"type\":\"scattermapbox\",\"marker\":{\"colorbar\":{\"outlinewidth\":0,\"ticks\":\"\"}}}],\"scatterternary\":[{\"type\":\"scatterternary\",\"marker\":{\"colorbar\":{\"outlinewidth\":0,\"ticks\":\"\"}}}],\"scattercarpet\":[{\"type\":\"scattercarpet\",\"marker\":{\"colorbar\":{\"outlinewidth\":0,\"ticks\":\"\"}}}],\"carpet\":[{\"aaxis\":{\"endlinecolor\":\"#2a3f5f\",\"gridcolor\":\"white\",\"linecolor\":\"white\",\"minorgridcolor\":\"white\",\"startlinecolor\":\"#2a3f5f\"},\"baxis\":{\"endlinecolor\":\"#2a3f5f\",\"gridcolor\":\"white\",\"linecolor\":\"white\",\"minorgridcolor\":\"white\",\"startlinecolor\":\"#2a3f5f\"},\"type\":\"carpet\"}],\"table\":[{\"cells\":{\"fill\":{\"color\":\"#EBF0F8\"},\"line\":{\"color\":\"white\"}},\"header\":{\"fill\":{\"color\":\"#C8D4E3\"},\"line\":{\"color\":\"white\"}},\"type\":\"table\"}],\"barpolar\":[{\"marker\":{\"line\":{\"color\":\"#E5ECF6\",\"width\":0.5},\"pattern\":{\"fillmode\":\"overlay\",\"size\":10,\"solidity\":0.2}},\"type\":\"barpolar\"}],\"pie\":[{\"automargin\":true,\"type\":\"pie\"}]},\"layout\":{\"autotypenumbers\":\"strict\",\"colorway\":[\"#636efa\",\"#EF553B\",\"#00cc96\",\"#ab63fa\",\"#FFA15A\",\"#19d3f3\",\"#FF6692\",\"#B6E880\",\"#FF97FF\",\"#FECB52\"],\"font\":{\"color\":\"#2a3f5f\"},\"hovermode\":\"closest\",\"hoverlabel\":{\"align\":\"left\"},\"paper_bgcolor\":\"white\",\"plot_bgcolor\":\"#E5ECF6\",\"polar\":{\"bgcolor\":\"#E5ECF6\",\"angularaxis\":{\"gridcolor\":\"white\",\"linecolor\":\"white\",\"ticks\":\"\"},\"radialaxis\":{\"gridcolor\":\"white\",\"linecolor\":\"white\",\"ticks\":\"\"}},\"ternary\":{\"bgcolor\":\"#E5ECF6\",\"aaxis\":{\"gridcolor\":\"white\",\"linecolor\":\"white\",\"ticks\":\"\"},\"baxis\":{\"gridcolor\":\"white\",\"linecolor\":\"white\",\"ticks\":\"\"},\"caxis\":{\"gridcolor\":\"white\",\"linecolor\":\"white\",\"ticks\":\"\"}},\"coloraxis\":{\"colorbar\":{\"outlinewidth\":0,\"ticks\":\"\"}},\"colorscale\":{\"sequential\":[[0.0,\"#0d0887\"],[0.1111111111111111,\"#46039f\"],[0.2222222222222222,\"#7201a8\"],[0.3333333333333333,\"#9c179e\"],[0.4444444444444444,\"#bd3786\"],[0.5555555555555556,\"#d8576b\"],[0.6666666666666666,\"#ed7953\"],[0.7777777777777778,\"#fb9f3a\"],[0.8888888888888888,\"#fdca26\"],[1.0,\"#f0f921\"]],\"sequentialminus\":[[0.0,\"#0d0887\"],[0.1111111111111111,\"#46039f\"],[0.2222222222222222,\"#7201a8\"],[0.3333333333333333,\"#9c179e\"],[0.4444444444444444,\"#bd3786\"],[0.5555555555555556,\"#d8576b\"],[0.6666666666666666,\"#ed7953\"],[0.7777777777777778,\"#fb9f3a\"],[0.8888888888888888,\"#fdca26\"],[1.0,\"#f0f921\"]],\"diverging\":[[0,\"#8e0152\"],[0.1,\"#c51b7d\"],[0.2,\"#de77ae\"],[0.3,\"#f1b6da\"],[0.4,\"#fde0ef\"],[0.5,\"#f7f7f7\"],[0.6,\"#e6f5d0\"],[0.7,\"#b8e186\"],[0.8,\"#7fbc41\"],[0.9,\"#4d9221\"],[1,\"#276419\"]]},\"xaxis\":{\"gridcolor\":\"white\",\"linecolor\":\"white\",\"ticks\":\"\",\"title\":{\"standoff\":15},\"zerolinecolor\":\"white\",\"automargin\":true,\"zerolinewidth\":2},\"yaxis\":{\"gridcolor\":\"white\",\"linecolor\":\"white\",\"ticks\":\"\",\"title\":{\"standoff\":15},\"zerolinecolor\":\"white\",\"automargin\":true,\"zerolinewidth\":2},\"scene\":{\"xaxis\":{\"backgroundcolor\":\"#E5ECF6\",\"gridcolor\":\"white\",\"linecolor\":\"white\",\"showbackground\":true,\"ticks\":\"\",\"zerolinecolor\":\"white\",\"gridwidth\":2},\"yaxis\":{\"backgroundcolor\":\"#E5ECF6\",\"gridcolor\":\"white\",\"linecolor\":\"white\",\"showbackground\":true,\"ticks\":\"\",\"zerolinecolor\":\"white\",\"gridwidth\":2},\"zaxis\":{\"backgroundcolor\":\"#E5ECF6\",\"gridcolor\":\"white\",\"linecolor\":\"white\",\"showbackground\":true,\"ticks\":\"\",\"zerolinecolor\":\"white\",\"gridwidth\":2}},\"shapedefaults\":{\"line\":{\"color\":\"#2a3f5f\"}},\"annotationdefaults\":{\"arrowcolor\":\"#2a3f5f\",\"arrowhead\":0,\"arrowwidth\":1},\"geo\":{\"bgcolor\":\"white\",\"landcolor\":\"#E5ECF6\",\"subunitcolor\":\"white\",\"showland\":true,\"showlakes\":true,\"lakecolor\":\"white\"},\"title\":{\"x\":0.05},\"mapbox\":{\"style\":\"light\"}}},\"xaxis\":{\"anchor\":\"y\",\"domain\":[0.0,1.0],\"title\":{\"text\":\"track_genre\"}},\"yaxis\":{\"anchor\":\"x\",\"domain\":[0.0,1.0],\"title\":{\"text\":\"valence\"}},\"legend\":{\"tracegroupgap\":0},\"title\":{\"text\":\"Zero Valence Values by Genre\"},\"barmode\":\"relative\"},                        {\"responsive\": true}                    )                };                            </script>        </div>"
      ],
      "text/plain": [
       "Figure({\n",
       "    'data': [{'alignmentgroup': 'True',\n",
       "              'hovertemplate': 'track_genre=%{x}<br>valence=%{y}<extra></extra>',\n",
       "              'legendgroup': '',\n",
       "              'marker': {'color': '#636efa', 'pattern': {'shape': ''}},\n",
       "              'name': '',\n",
       "              'offsetgroup': '',\n",
       "              'orientation': 'v',\n",
       "              'showlegend': False,\n",
       "              'textposition': 'auto',\n",
       "              'type': 'bar',\n",
       "              'x': array(['acoustic', 'afrobeat', 'alt-rock', 'alternative', 'ambient', 'anime',\n",
       "                          'black-metal', 'bluegrass', 'blues', 'brazil', 'breakbeat', 'british',\n",
       "                          'cantopop', 'chicago-house', 'children', 'chill', 'classical', 'club',\n",
       "                          'comedy', 'country', 'dance', 'dancehall', 'death-metal', 'deep-house',\n",
       "                          'detroit-techno', 'disco', 'disney', 'drum-and-bass', 'dub', 'dubstep',\n",
       "                          'edm', 'electro', 'electronic', 'emo', 'folk', 'forro', 'french',\n",
       "                          'funk', 'garage', 'german', 'gospel', 'goth', 'grindcore', 'groove',\n",
       "                          'grunge', 'guitar', 'happy', 'hard-rock', 'hardcore', 'hardstyle',\n",
       "                          'heavy-metal', 'hip-hop', 'honky-tonk', 'house', 'idm', 'indian',\n",
       "                          'indie', 'indie-pop', 'industrial', 'iranian', 'j-dance', 'j-idol',\n",
       "                          'j-pop', 'j-rock', 'jazz', 'k-pop', 'kids', 'latin', 'latino', 'malay',\n",
       "                          'mandopop', 'metal', 'metalcore', 'minimal-techno', 'mpb', 'new-age',\n",
       "                          'opera', 'pagode', 'party', 'piano', 'pop', 'pop-film', 'power-pop',\n",
       "                          'progressive-house', 'psych-rock', 'punk', 'punk-rock', 'r-n-b',\n",
       "                          'reggae', 'reggaeton', 'rock', 'rock-n-roll', 'rockabilly', 'romance',\n",
       "                          'sad', 'salsa', 'samba', 'sertanejo', 'show-tunes', 'singer-songwriter',\n",
       "                          'ska', 'sleep', 'songwriter', 'soul', 'spanish', 'study', 'swedish',\n",
       "                          'synth-pop', 'tango', 'techno', 'trance', 'trip-hop', 'turkish',\n",
       "                          'world-music'], dtype=object),\n",
       "              'xaxis': 'x',\n",
       "              'y': array([  0,   0,   0,   0,   3,   0,   0,   0,   0,   0,   0,   0,   0,   0,\n",
       "                            0,   0,   1,   0,   0,   0,   0,   0,   0,   0,   0,   0,   1,   0,\n",
       "                            0,   0,   0,   0,   0,   0,   0,   0,   0,   0,   0,   0,   0,   0,\n",
       "                            1,   0,   0,   5,   0,   0,   0,   0,   0,   0,   0,   0,   0,   0,\n",
       "                            0,   0,   0,   7,   0,   0,   0,   0,   1,   0,   0,   0,   0,   0,\n",
       "                            0,   0,   0,   0,   0,   0,   2,   0,   0,   0,   0,   0,   0,   0,\n",
       "                            0,   0,   0,   0,   0,   0,   0,   0,   0,   1,   0,   0,   0,   0,\n",
       "                            1,   0,   0, 150,   0,   0,   0,   0,   0,   0,   0,   0,   0,   0,\n",
       "                            0,   3]),\n",
       "              'yaxis': 'y'}],\n",
       "    'layout': {'barmode': 'relative',\n",
       "               'legend': {'tracegroupgap': 0},\n",
       "               'template': '...',\n",
       "               'title': {'text': 'Zero Valence Values by Genre'},\n",
       "               'xaxis': {'anchor': 'y', 'domain': [0.0, 1.0], 'title': {'text': 'track_genre'}},\n",
       "               'yaxis': {'anchor': 'x', 'domain': [0.0, 1.0], 'title': {'text': 'valence'}}}\n",
       "})"
      ]
     },
     "execution_count": 29,
     "metadata": {},
     "output_type": "execute_result"
    }
   ],
   "source": [
    "# identify whether each valence value is zero\n",
    "# and group by genre (index)\n",
    "# count number of zero values\n",
    "zero_valence_by_genre = spotify.set_index(\"track_genre\")[\"valence\"].eq(0).groupby(level=0).sum()\n",
    "\n",
    "# Convert the result to a DataFrame \n",
    "zero_valence_by_genre_df = zero_valence_by_genre.reset_index()\n",
    "\n",
    "# Create a bar chart \n",
    "px.bar(zero_valence_by_genre_df,\n",
    "       x='track_genre',\n",
    "       y='valence',  # The count of zero valence values\n",
    "       labels={'0': 'Number of zero valence values', 'genre': 'Genre'},\n",
    "       title=\"Zero Valence Values by Genre\")"
   ]
  },
  {
   "cell_type": "code",
   "execution_count": 35,
   "metadata": {},
   "outputs": [
    {
     "ename": "ValueError",
     "evalue": "Mime type rendering requires nbformat>=4.2.0 but it is not installed",
     "output_type": "error",
     "traceback": [
      "\u001b[0;31m---------------------------------------------------------------------------\u001b[0m",
      "\u001b[0;31mValueError\u001b[0m                                Traceback (most recent call last)",
      "File \u001b[0;32m~/anaconda3/envs/datascience/lib/python3.13/site-packages/IPython/core/formatters.py:925\u001b[0m, in \u001b[0;36mIPythonDisplayFormatter.__call__\u001b[0;34m(self, obj)\u001b[0m\n\u001b[1;32m    923\u001b[0m method \u001b[39m=\u001b[39m get_real_method(obj, \u001b[39mself\u001b[39m\u001b[39m.\u001b[39mprint_method)\n\u001b[1;32m    924\u001b[0m \u001b[39mif\u001b[39;00m method \u001b[39mis\u001b[39;00m \u001b[39mnot\u001b[39;00m \u001b[39mNone\u001b[39;00m:\n\u001b[0;32m--> 925\u001b[0m     method()\n\u001b[1;32m    926\u001b[0m     \u001b[39mreturn\u001b[39;00m \u001b[39mTrue\u001b[39;00m\n",
      "File \u001b[0;32m~/anaconda3/envs/datascience/lib/python3.13/site-packages/plotly/basedatatypes.py:832\u001b[0m, in \u001b[0;36mBaseFigure._ipython_display_\u001b[0;34m(self)\u001b[0m\n\u001b[1;32m    829\u001b[0m \u001b[39mimport\u001b[39;00m \u001b[39mplotly\u001b[39;00m\u001b[39m.\u001b[39;00m\u001b[39mio\u001b[39;00m \u001b[39mas\u001b[39;00m \u001b[39mpio\u001b[39;00m\n\u001b[1;32m    831\u001b[0m \u001b[39mif\u001b[39;00m pio\u001b[39m.\u001b[39mrenderers\u001b[39m.\u001b[39mrender_on_display \u001b[39mand\u001b[39;00m pio\u001b[39m.\u001b[39mrenderers\u001b[39m.\u001b[39mdefault:\n\u001b[0;32m--> 832\u001b[0m     pio\u001b[39m.\u001b[39;49mshow(\u001b[39mself\u001b[39;49m)\n\u001b[1;32m    833\u001b[0m \u001b[39melse\u001b[39;00m:\n\u001b[1;32m    834\u001b[0m     \u001b[39mprint\u001b[39m(\u001b[39mrepr\u001b[39m(\u001b[39mself\u001b[39m))\n",
      "File \u001b[0;32m~/anaconda3/envs/datascience/lib/python3.13/site-packages/plotly/io/_renderers.py:394\u001b[0m, in \u001b[0;36mshow\u001b[0;34m(fig, renderer, validate, **kwargs)\u001b[0m\n\u001b[1;32m    389\u001b[0m         \u001b[39mraise\u001b[39;00m \u001b[39mValueError\u001b[39;00m(\n\u001b[1;32m    390\u001b[0m             \u001b[39m\"\u001b[39m\u001b[39mMime type rendering requires ipython but it is not installed\u001b[39m\u001b[39m\"\u001b[39m\n\u001b[1;32m    391\u001b[0m         )\n\u001b[1;32m    393\u001b[0m     \u001b[39mif\u001b[39;00m \u001b[39mnot\u001b[39;00m nbformat \u001b[39mor\u001b[39;00m Version(nbformat\u001b[39m.\u001b[39m__version__) \u001b[39m<\u001b[39m Version(\u001b[39m\"\u001b[39m\u001b[39m4.2.0\u001b[39m\u001b[39m\"\u001b[39m):\n\u001b[0;32m--> 394\u001b[0m         \u001b[39mraise\u001b[39;00m \u001b[39mValueError\u001b[39;00m(\n\u001b[1;32m    395\u001b[0m             \u001b[39m\"\u001b[39m\u001b[39mMime type rendering requires nbformat>=4.2.0 but it is not installed\u001b[39m\u001b[39m\"\u001b[39m\n\u001b[1;32m    396\u001b[0m         )\n\u001b[1;32m    398\u001b[0m     ipython_display\u001b[39m.\u001b[39mdisplay(bundle, raw\u001b[39m=\u001b[39m\u001b[39mTrue\u001b[39;00m)\n\u001b[1;32m    400\u001b[0m \u001b[39m# external renderers\u001b[39;00m\n",
      "\u001b[0;31mValueError\u001b[0m: Mime type rendering requires nbformat>=4.2.0 but it is not installed"
     ]
    },
    {
     "data": {
      "application/vnd.plotly.v1+json": {
       "config": {
        "plotlyServerURL": "https://plot.ly"
       },
       "data": [
        {
         "alignmentgroup": "True",
         "hovertemplate": "track_genre=%{x}<br>time_signature=%{y}<extra></extra>",
         "legendgroup": "",
         "marker": {
          "color": "#636efa",
          "pattern": {
           "shape": ""
          }
         },
         "name": "",
         "offsetgroup": "",
         "orientation": "v",
         "showlegend": false,
         "textposition": "auto",
         "type": "bar",
         "x": [
          "acoustic",
          "afrobeat",
          "alt-rock",
          "alternative",
          "ambient",
          "anime",
          "black-metal",
          "bluegrass",
          "blues",
          "brazil",
          "breakbeat",
          "british",
          "cantopop",
          "chicago-house",
          "children",
          "chill",
          "classical",
          "club",
          "comedy",
          "country",
          "dance",
          "dancehall",
          "death-metal",
          "deep-house",
          "detroit-techno",
          "disco",
          "disney",
          "drum-and-bass",
          "dub",
          "dubstep",
          "edm",
          "electro",
          "electronic",
          "emo",
          "folk",
          "forro",
          "french",
          "funk",
          "garage",
          "german",
          "gospel",
          "goth",
          "grindcore",
          "groove",
          "grunge",
          "guitar",
          "happy",
          "hard-rock",
          "hardcore",
          "hardstyle",
          "heavy-metal",
          "hip-hop",
          "honky-tonk",
          "house",
          "idm",
          "indian",
          "indie",
          "indie-pop",
          "industrial",
          "iranian",
          "j-dance",
          "j-idol",
          "j-pop",
          "j-rock",
          "jazz",
          "k-pop",
          "kids",
          "latin",
          "latino",
          "malay",
          "mandopop",
          "metal",
          "metalcore",
          "minimal-techno",
          "mpb",
          "new-age",
          "opera",
          "pagode",
          "party",
          "piano",
          "pop",
          "pop-film",
          "power-pop",
          "progressive-house",
          "psych-rock",
          "punk",
          "punk-rock",
          "r-n-b",
          "reggae",
          "reggaeton",
          "rock",
          "rock-n-roll",
          "rockabilly",
          "romance",
          "sad",
          "salsa",
          "samba",
          "sertanejo",
          "show-tunes",
          "singer-songwriter",
          "ska",
          "sleep",
          "songwriter",
          "soul",
          "spanish",
          "study",
          "swedish",
          "synth-pop",
          "tango",
          "techno",
          "trance",
          "trip-hop",
          "turkish",
          "world-music"
         ],
         "xaxis": "x",
         "y": [
          9,
          5,
          2,
          2,
          42,
          7,
          20,
          5,
          6,
          5,
          1,
          11,
          1,
          0,
          8,
          6,
          42,
          8,
          56,
          1,
          0,
          1,
          13,
          2,
          1,
          2,
          14,
          1,
          2,
          4,
          1,
          3,
          4,
          4,
          30,
          2,
          5,
          4,
          4,
          9,
          3,
          3,
          36,
          3,
          6,
          21,
          4,
          3,
          5,
          3,
          3,
          11,
          3,
          0,
          24,
          20,
          11,
          8,
          4,
          33,
          7,
          2,
          8,
          2,
          18,
          5,
          8,
          2,
          3,
          27,
          1,
          3,
          7,
          5,
          7,
          27,
          32,
          1,
          4,
          18,
          26,
          5,
          1,
          2,
          8,
          2,
          3,
          10,
          3,
          2,
          0,
          3,
          4,
          30,
          5,
          0,
          3,
          5,
          21,
          3,
          4,
          195,
          3,
          2,
          2,
          6,
          6,
          2,
          17,
          3,
          5,
          7,
          4,
          10
         ],
         "yaxis": "y"
        }
       ],
       "layout": {
        "barmode": "relative",
        "legend": {
         "tracegroupgap": 0
        },
        "template": {
         "data": {
          "bar": [
           {
            "error_x": {
             "color": "#2a3f5f"
            },
            "error_y": {
             "color": "#2a3f5f"
            },
            "marker": {
             "line": {
              "color": "#E5ECF6",
              "width": 0.5
             },
             "pattern": {
              "fillmode": "overlay",
              "size": 10,
              "solidity": 0.2
             }
            },
            "type": "bar"
           }
          ],
          "barpolar": [
           {
            "marker": {
             "line": {
              "color": "#E5ECF6",
              "width": 0.5
             },
             "pattern": {
              "fillmode": "overlay",
              "size": 10,
              "solidity": 0.2
             }
            },
            "type": "barpolar"
           }
          ],
          "carpet": [
           {
            "aaxis": {
             "endlinecolor": "#2a3f5f",
             "gridcolor": "white",
             "linecolor": "white",
             "minorgridcolor": "white",
             "startlinecolor": "#2a3f5f"
            },
            "baxis": {
             "endlinecolor": "#2a3f5f",
             "gridcolor": "white",
             "linecolor": "white",
             "minorgridcolor": "white",
             "startlinecolor": "#2a3f5f"
            },
            "type": "carpet"
           }
          ],
          "choropleth": [
           {
            "colorbar": {
             "outlinewidth": 0,
             "ticks": ""
            },
            "type": "choropleth"
           }
          ],
          "contour": [
           {
            "colorbar": {
             "outlinewidth": 0,
             "ticks": ""
            },
            "colorscale": [
             [
              0,
              "#0d0887"
             ],
             [
              0.1111111111111111,
              "#46039f"
             ],
             [
              0.2222222222222222,
              "#7201a8"
             ],
             [
              0.3333333333333333,
              "#9c179e"
             ],
             [
              0.4444444444444444,
              "#bd3786"
             ],
             [
              0.5555555555555556,
              "#d8576b"
             ],
             [
              0.6666666666666666,
              "#ed7953"
             ],
             [
              0.7777777777777778,
              "#fb9f3a"
             ],
             [
              0.8888888888888888,
              "#fdca26"
             ],
             [
              1,
              "#f0f921"
             ]
            ],
            "type": "contour"
           }
          ],
          "contourcarpet": [
           {
            "colorbar": {
             "outlinewidth": 0,
             "ticks": ""
            },
            "type": "contourcarpet"
           }
          ],
          "heatmap": [
           {
            "colorbar": {
             "outlinewidth": 0,
             "ticks": ""
            },
            "colorscale": [
             [
              0,
              "#0d0887"
             ],
             [
              0.1111111111111111,
              "#46039f"
             ],
             [
              0.2222222222222222,
              "#7201a8"
             ],
             [
              0.3333333333333333,
              "#9c179e"
             ],
             [
              0.4444444444444444,
              "#bd3786"
             ],
             [
              0.5555555555555556,
              "#d8576b"
             ],
             [
              0.6666666666666666,
              "#ed7953"
             ],
             [
              0.7777777777777778,
              "#fb9f3a"
             ],
             [
              0.8888888888888888,
              "#fdca26"
             ],
             [
              1,
              "#f0f921"
             ]
            ],
            "type": "heatmap"
           }
          ],
          "heatmapgl": [
           {
            "colorbar": {
             "outlinewidth": 0,
             "ticks": ""
            },
            "colorscale": [
             [
              0,
              "#0d0887"
             ],
             [
              0.1111111111111111,
              "#46039f"
             ],
             [
              0.2222222222222222,
              "#7201a8"
             ],
             [
              0.3333333333333333,
              "#9c179e"
             ],
             [
              0.4444444444444444,
              "#bd3786"
             ],
             [
              0.5555555555555556,
              "#d8576b"
             ],
             [
              0.6666666666666666,
              "#ed7953"
             ],
             [
              0.7777777777777778,
              "#fb9f3a"
             ],
             [
              0.8888888888888888,
              "#fdca26"
             ],
             [
              1,
              "#f0f921"
             ]
            ],
            "type": "heatmapgl"
           }
          ],
          "histogram": [
           {
            "marker": {
             "pattern": {
              "fillmode": "overlay",
              "size": 10,
              "solidity": 0.2
             }
            },
            "type": "histogram"
           }
          ],
          "histogram2d": [
           {
            "colorbar": {
             "outlinewidth": 0,
             "ticks": ""
            },
            "colorscale": [
             [
              0,
              "#0d0887"
             ],
             [
              0.1111111111111111,
              "#46039f"
             ],
             [
              0.2222222222222222,
              "#7201a8"
             ],
             [
              0.3333333333333333,
              "#9c179e"
             ],
             [
              0.4444444444444444,
              "#bd3786"
             ],
             [
              0.5555555555555556,
              "#d8576b"
             ],
             [
              0.6666666666666666,
              "#ed7953"
             ],
             [
              0.7777777777777778,
              "#fb9f3a"
             ],
             [
              0.8888888888888888,
              "#fdca26"
             ],
             [
              1,
              "#f0f921"
             ]
            ],
            "type": "histogram2d"
           }
          ],
          "histogram2dcontour": [
           {
            "colorbar": {
             "outlinewidth": 0,
             "ticks": ""
            },
            "colorscale": [
             [
              0,
              "#0d0887"
             ],
             [
              0.1111111111111111,
              "#46039f"
             ],
             [
              0.2222222222222222,
              "#7201a8"
             ],
             [
              0.3333333333333333,
              "#9c179e"
             ],
             [
              0.4444444444444444,
              "#bd3786"
             ],
             [
              0.5555555555555556,
              "#d8576b"
             ],
             [
              0.6666666666666666,
              "#ed7953"
             ],
             [
              0.7777777777777778,
              "#fb9f3a"
             ],
             [
              0.8888888888888888,
              "#fdca26"
             ],
             [
              1,
              "#f0f921"
             ]
            ],
            "type": "histogram2dcontour"
           }
          ],
          "mesh3d": [
           {
            "colorbar": {
             "outlinewidth": 0,
             "ticks": ""
            },
            "type": "mesh3d"
           }
          ],
          "parcoords": [
           {
            "line": {
             "colorbar": {
              "outlinewidth": 0,
              "ticks": ""
             }
            },
            "type": "parcoords"
           }
          ],
          "pie": [
           {
            "automargin": true,
            "type": "pie"
           }
          ],
          "scatter": [
           {
            "fillpattern": {
             "fillmode": "overlay",
             "size": 10,
             "solidity": 0.2
            },
            "type": "scatter"
           }
          ],
          "scatter3d": [
           {
            "line": {
             "colorbar": {
              "outlinewidth": 0,
              "ticks": ""
             }
            },
            "marker": {
             "colorbar": {
              "outlinewidth": 0,
              "ticks": ""
             }
            },
            "type": "scatter3d"
           }
          ],
          "scattercarpet": [
           {
            "marker": {
             "colorbar": {
              "outlinewidth": 0,
              "ticks": ""
             }
            },
            "type": "scattercarpet"
           }
          ],
          "scattergeo": [
           {
            "marker": {
             "colorbar": {
              "outlinewidth": 0,
              "ticks": ""
             }
            },
            "type": "scattergeo"
           }
          ],
          "scattergl": [
           {
            "marker": {
             "colorbar": {
              "outlinewidth": 0,
              "ticks": ""
             }
            },
            "type": "scattergl"
           }
          ],
          "scattermapbox": [
           {
            "marker": {
             "colorbar": {
              "outlinewidth": 0,
              "ticks": ""
             }
            },
            "type": "scattermapbox"
           }
          ],
          "scatterpolar": [
           {
            "marker": {
             "colorbar": {
              "outlinewidth": 0,
              "ticks": ""
             }
            },
            "type": "scatterpolar"
           }
          ],
          "scatterpolargl": [
           {
            "marker": {
             "colorbar": {
              "outlinewidth": 0,
              "ticks": ""
             }
            },
            "type": "scatterpolargl"
           }
          ],
          "scatterternary": [
           {
            "marker": {
             "colorbar": {
              "outlinewidth": 0,
              "ticks": ""
             }
            },
            "type": "scatterternary"
           }
          ],
          "surface": [
           {
            "colorbar": {
             "outlinewidth": 0,
             "ticks": ""
            },
            "colorscale": [
             [
              0,
              "#0d0887"
             ],
             [
              0.1111111111111111,
              "#46039f"
             ],
             [
              0.2222222222222222,
              "#7201a8"
             ],
             [
              0.3333333333333333,
              "#9c179e"
             ],
             [
              0.4444444444444444,
              "#bd3786"
             ],
             [
              0.5555555555555556,
              "#d8576b"
             ],
             [
              0.6666666666666666,
              "#ed7953"
             ],
             [
              0.7777777777777778,
              "#fb9f3a"
             ],
             [
              0.8888888888888888,
              "#fdca26"
             ],
             [
              1,
              "#f0f921"
             ]
            ],
            "type": "surface"
           }
          ],
          "table": [
           {
            "cells": {
             "fill": {
              "color": "#EBF0F8"
             },
             "line": {
              "color": "white"
             }
            },
            "header": {
             "fill": {
              "color": "#C8D4E3"
             },
             "line": {
              "color": "white"
             }
            },
            "type": "table"
           }
          ]
         },
         "layout": {
          "annotationdefaults": {
           "arrowcolor": "#2a3f5f",
           "arrowhead": 0,
           "arrowwidth": 1
          },
          "autotypenumbers": "strict",
          "coloraxis": {
           "colorbar": {
            "outlinewidth": 0,
            "ticks": ""
           }
          },
          "colorscale": {
           "diverging": [
            [
             0,
             "#8e0152"
            ],
            [
             0.1,
             "#c51b7d"
            ],
            [
             0.2,
             "#de77ae"
            ],
            [
             0.3,
             "#f1b6da"
            ],
            [
             0.4,
             "#fde0ef"
            ],
            [
             0.5,
             "#f7f7f7"
            ],
            [
             0.6,
             "#e6f5d0"
            ],
            [
             0.7,
             "#b8e186"
            ],
            [
             0.8,
             "#7fbc41"
            ],
            [
             0.9,
             "#4d9221"
            ],
            [
             1,
             "#276419"
            ]
           ],
           "sequential": [
            [
             0,
             "#0d0887"
            ],
            [
             0.1111111111111111,
             "#46039f"
            ],
            [
             0.2222222222222222,
             "#7201a8"
            ],
            [
             0.3333333333333333,
             "#9c179e"
            ],
            [
             0.4444444444444444,
             "#bd3786"
            ],
            [
             0.5555555555555556,
             "#d8576b"
            ],
            [
             0.6666666666666666,
             "#ed7953"
            ],
            [
             0.7777777777777778,
             "#fb9f3a"
            ],
            [
             0.8888888888888888,
             "#fdca26"
            ],
            [
             1,
             "#f0f921"
            ]
           ],
           "sequentialminus": [
            [
             0,
             "#0d0887"
            ],
            [
             0.1111111111111111,
             "#46039f"
            ],
            [
             0.2222222222222222,
             "#7201a8"
            ],
            [
             0.3333333333333333,
             "#9c179e"
            ],
            [
             0.4444444444444444,
             "#bd3786"
            ],
            [
             0.5555555555555556,
             "#d8576b"
            ],
            [
             0.6666666666666666,
             "#ed7953"
            ],
            [
             0.7777777777777778,
             "#fb9f3a"
            ],
            [
             0.8888888888888888,
             "#fdca26"
            ],
            [
             1,
             "#f0f921"
            ]
           ]
          },
          "colorway": [
           "#636efa",
           "#EF553B",
           "#00cc96",
           "#ab63fa",
           "#FFA15A",
           "#19d3f3",
           "#FF6692",
           "#B6E880",
           "#FF97FF",
           "#FECB52"
          ],
          "font": {
           "color": "#2a3f5f"
          },
          "geo": {
           "bgcolor": "white",
           "lakecolor": "white",
           "landcolor": "#E5ECF6",
           "showlakes": true,
           "showland": true,
           "subunitcolor": "white"
          },
          "hoverlabel": {
           "align": "left"
          },
          "hovermode": "closest",
          "mapbox": {
           "style": "light"
          },
          "paper_bgcolor": "white",
          "plot_bgcolor": "#E5ECF6",
          "polar": {
           "angularaxis": {
            "gridcolor": "white",
            "linecolor": "white",
            "ticks": ""
           },
           "bgcolor": "#E5ECF6",
           "radialaxis": {
            "gridcolor": "white",
            "linecolor": "white",
            "ticks": ""
           }
          },
          "scene": {
           "xaxis": {
            "backgroundcolor": "#E5ECF6",
            "gridcolor": "white",
            "gridwidth": 2,
            "linecolor": "white",
            "showbackground": true,
            "ticks": "",
            "zerolinecolor": "white"
           },
           "yaxis": {
            "backgroundcolor": "#E5ECF6",
            "gridcolor": "white",
            "gridwidth": 2,
            "linecolor": "white",
            "showbackground": true,
            "ticks": "",
            "zerolinecolor": "white"
           },
           "zaxis": {
            "backgroundcolor": "#E5ECF6",
            "gridcolor": "white",
            "gridwidth": 2,
            "linecolor": "white",
            "showbackground": true,
            "ticks": "",
            "zerolinecolor": "white"
           }
          },
          "shapedefaults": {
           "line": {
            "color": "#2a3f5f"
           }
          },
          "ternary": {
           "aaxis": {
            "gridcolor": "white",
            "linecolor": "white",
            "ticks": ""
           },
           "baxis": {
            "gridcolor": "white",
            "linecolor": "white",
            "ticks": ""
           },
           "bgcolor": "#E5ECF6",
           "caxis": {
            "gridcolor": "white",
            "linecolor": "white",
            "ticks": ""
           }
          },
          "title": {
           "x": 0.05
          },
          "xaxis": {
           "automargin": true,
           "gridcolor": "white",
           "linecolor": "white",
           "ticks": "",
           "title": {
            "standoff": 15
           },
           "zerolinecolor": "white",
           "zerolinewidth": 2
          },
          "yaxis": {
           "automargin": true,
           "gridcolor": "white",
           "linecolor": "white",
           "ticks": "",
           "title": {
            "standoff": 15
           },
           "zerolinecolor": "white",
           "zerolinewidth": 2
          }
         }
        },
        "title": {
         "text": "Invalid Time Signature by Genre"
        },
        "xaxis": {
         "anchor": "y",
         "domain": [
          0,
          1
         ],
         "title": {
          "text": "track_genre"
         }
        },
        "yaxis": {
         "anchor": "x",
         "domain": [
          0,
          1
         ],
         "title": {
          "text": "time_signature"
         }
        }
       }
      },
      "text/html": [
       "<div>                        <script type=\"text/javascript\">window.PlotlyConfig = {MathJaxConfig: 'local'};</script>\n",
       "        <script charset=\"utf-8\" src=\"https://cdn.plot.ly/plotly-2.35.2.min.js\"></script>                <div id=\"c1ff3eca-452c-4772-8bb2-848dfbf1071f\" class=\"plotly-graph-div\" style=\"height:100%; width:100%;\"></div>            <script type=\"text/javascript\">                                    window.PLOTLYENV=window.PLOTLYENV || {};                                    if (document.getElementById(\"c1ff3eca-452c-4772-8bb2-848dfbf1071f\")) {                    Plotly.newPlot(                        \"c1ff3eca-452c-4772-8bb2-848dfbf1071f\",                        [{\"alignmentgroup\":\"True\",\"hovertemplate\":\"track_genre=%{x}\\u003cbr\\u003etime_signature=%{y}\\u003cextra\\u003e\\u003c\\u002fextra\\u003e\",\"legendgroup\":\"\",\"marker\":{\"color\":\"#636efa\",\"pattern\":{\"shape\":\"\"}},\"name\":\"\",\"offsetgroup\":\"\",\"orientation\":\"v\",\"showlegend\":false,\"textposition\":\"auto\",\"x\":[\"acoustic\",\"afrobeat\",\"alt-rock\",\"alternative\",\"ambient\",\"anime\",\"black-metal\",\"bluegrass\",\"blues\",\"brazil\",\"breakbeat\",\"british\",\"cantopop\",\"chicago-house\",\"children\",\"chill\",\"classical\",\"club\",\"comedy\",\"country\",\"dance\",\"dancehall\",\"death-metal\",\"deep-house\",\"detroit-techno\",\"disco\",\"disney\",\"drum-and-bass\",\"dub\",\"dubstep\",\"edm\",\"electro\",\"electronic\",\"emo\",\"folk\",\"forro\",\"french\",\"funk\",\"garage\",\"german\",\"gospel\",\"goth\",\"grindcore\",\"groove\",\"grunge\",\"guitar\",\"happy\",\"hard-rock\",\"hardcore\",\"hardstyle\",\"heavy-metal\",\"hip-hop\",\"honky-tonk\",\"house\",\"idm\",\"indian\",\"indie\",\"indie-pop\",\"industrial\",\"iranian\",\"j-dance\",\"j-idol\",\"j-pop\",\"j-rock\",\"jazz\",\"k-pop\",\"kids\",\"latin\",\"latino\",\"malay\",\"mandopop\",\"metal\",\"metalcore\",\"minimal-techno\",\"mpb\",\"new-age\",\"opera\",\"pagode\",\"party\",\"piano\",\"pop\",\"pop-film\",\"power-pop\",\"progressive-house\",\"psych-rock\",\"punk\",\"punk-rock\",\"r-n-b\",\"reggae\",\"reggaeton\",\"rock\",\"rock-n-roll\",\"rockabilly\",\"romance\",\"sad\",\"salsa\",\"samba\",\"sertanejo\",\"show-tunes\",\"singer-songwriter\",\"ska\",\"sleep\",\"songwriter\",\"soul\",\"spanish\",\"study\",\"swedish\",\"synth-pop\",\"tango\",\"techno\",\"trance\",\"trip-hop\",\"turkish\",\"world-music\"],\"xaxis\":\"x\",\"y\":[9,5,2,2,42,7,20,5,6,5,1,11,1,0,8,6,42,8,56,1,0,1,13,2,1,2,14,1,2,4,1,3,4,4,30,2,5,4,4,9,3,3,36,3,6,21,4,3,5,3,3,11,3,0,24,20,11,8,4,33,7,2,8,2,18,5,8,2,3,27,1,3,7,5,7,27,32,1,4,18,26,5,1,2,8,2,3,10,3,2,0,3,4,30,5,0,3,5,21,3,4,195,3,2,2,6,6,2,17,3,5,7,4,10],\"yaxis\":\"y\",\"type\":\"bar\"}],                        {\"template\":{\"data\":{\"histogram2dcontour\":[{\"type\":\"histogram2dcontour\",\"colorbar\":{\"outlinewidth\":0,\"ticks\":\"\"},\"colorscale\":[[0.0,\"#0d0887\"],[0.1111111111111111,\"#46039f\"],[0.2222222222222222,\"#7201a8\"],[0.3333333333333333,\"#9c179e\"],[0.4444444444444444,\"#bd3786\"],[0.5555555555555556,\"#d8576b\"],[0.6666666666666666,\"#ed7953\"],[0.7777777777777778,\"#fb9f3a\"],[0.8888888888888888,\"#fdca26\"],[1.0,\"#f0f921\"]]}],\"choropleth\":[{\"type\":\"choropleth\",\"colorbar\":{\"outlinewidth\":0,\"ticks\":\"\"}}],\"histogram2d\":[{\"type\":\"histogram2d\",\"colorbar\":{\"outlinewidth\":0,\"ticks\":\"\"},\"colorscale\":[[0.0,\"#0d0887\"],[0.1111111111111111,\"#46039f\"],[0.2222222222222222,\"#7201a8\"],[0.3333333333333333,\"#9c179e\"],[0.4444444444444444,\"#bd3786\"],[0.5555555555555556,\"#d8576b\"],[0.6666666666666666,\"#ed7953\"],[0.7777777777777778,\"#fb9f3a\"],[0.8888888888888888,\"#fdca26\"],[1.0,\"#f0f921\"]]}],\"heatmap\":[{\"type\":\"heatmap\",\"colorbar\":{\"outlinewidth\":0,\"ticks\":\"\"},\"colorscale\":[[0.0,\"#0d0887\"],[0.1111111111111111,\"#46039f\"],[0.2222222222222222,\"#7201a8\"],[0.3333333333333333,\"#9c179e\"],[0.4444444444444444,\"#bd3786\"],[0.5555555555555556,\"#d8576b\"],[0.6666666666666666,\"#ed7953\"],[0.7777777777777778,\"#fb9f3a\"],[0.8888888888888888,\"#fdca26\"],[1.0,\"#f0f921\"]]}],\"heatmapgl\":[{\"type\":\"heatmapgl\",\"colorbar\":{\"outlinewidth\":0,\"ticks\":\"\"},\"colorscale\":[[0.0,\"#0d0887\"],[0.1111111111111111,\"#46039f\"],[0.2222222222222222,\"#7201a8\"],[0.3333333333333333,\"#9c179e\"],[0.4444444444444444,\"#bd3786\"],[0.5555555555555556,\"#d8576b\"],[0.6666666666666666,\"#ed7953\"],[0.7777777777777778,\"#fb9f3a\"],[0.8888888888888888,\"#fdca26\"],[1.0,\"#f0f921\"]]}],\"contourcarpet\":[{\"type\":\"contourcarpet\",\"colorbar\":{\"outlinewidth\":0,\"ticks\":\"\"}}],\"contour\":[{\"type\":\"contour\",\"colorbar\":{\"outlinewidth\":0,\"ticks\":\"\"},\"colorscale\":[[0.0,\"#0d0887\"],[0.1111111111111111,\"#46039f\"],[0.2222222222222222,\"#7201a8\"],[0.3333333333333333,\"#9c179e\"],[0.4444444444444444,\"#bd3786\"],[0.5555555555555556,\"#d8576b\"],[0.6666666666666666,\"#ed7953\"],[0.7777777777777778,\"#fb9f3a\"],[0.8888888888888888,\"#fdca26\"],[1.0,\"#f0f921\"]]}],\"surface\":[{\"type\":\"surface\",\"colorbar\":{\"outlinewidth\":0,\"ticks\":\"\"},\"colorscale\":[[0.0,\"#0d0887\"],[0.1111111111111111,\"#46039f\"],[0.2222222222222222,\"#7201a8\"],[0.3333333333333333,\"#9c179e\"],[0.4444444444444444,\"#bd3786\"],[0.5555555555555556,\"#d8576b\"],[0.6666666666666666,\"#ed7953\"],[0.7777777777777778,\"#fb9f3a\"],[0.8888888888888888,\"#fdca26\"],[1.0,\"#f0f921\"]]}],\"mesh3d\":[{\"type\":\"mesh3d\",\"colorbar\":{\"outlinewidth\":0,\"ticks\":\"\"}}],\"scatter\":[{\"fillpattern\":{\"fillmode\":\"overlay\",\"size\":10,\"solidity\":0.2},\"type\":\"scatter\"}],\"parcoords\":[{\"type\":\"parcoords\",\"line\":{\"colorbar\":{\"outlinewidth\":0,\"ticks\":\"\"}}}],\"scatterpolargl\":[{\"type\":\"scatterpolargl\",\"marker\":{\"colorbar\":{\"outlinewidth\":0,\"ticks\":\"\"}}}],\"bar\":[{\"error_x\":{\"color\":\"#2a3f5f\"},\"error_y\":{\"color\":\"#2a3f5f\"},\"marker\":{\"line\":{\"color\":\"#E5ECF6\",\"width\":0.5},\"pattern\":{\"fillmode\":\"overlay\",\"size\":10,\"solidity\":0.2}},\"type\":\"bar\"}],\"scattergeo\":[{\"type\":\"scattergeo\",\"marker\":{\"colorbar\":{\"outlinewidth\":0,\"ticks\":\"\"}}}],\"scatterpolar\":[{\"type\":\"scatterpolar\",\"marker\":{\"colorbar\":{\"outlinewidth\":0,\"ticks\":\"\"}}}],\"histogram\":[{\"marker\":{\"pattern\":{\"fillmode\":\"overlay\",\"size\":10,\"solidity\":0.2}},\"type\":\"histogram\"}],\"scattergl\":[{\"type\":\"scattergl\",\"marker\":{\"colorbar\":{\"outlinewidth\":0,\"ticks\":\"\"}}}],\"scatter3d\":[{\"type\":\"scatter3d\",\"line\":{\"colorbar\":{\"outlinewidth\":0,\"ticks\":\"\"}},\"marker\":{\"colorbar\":{\"outlinewidth\":0,\"ticks\":\"\"}}}],\"scattermapbox\":[{\"type\":\"scattermapbox\",\"marker\":{\"colorbar\":{\"outlinewidth\":0,\"ticks\":\"\"}}}],\"scatterternary\":[{\"type\":\"scatterternary\",\"marker\":{\"colorbar\":{\"outlinewidth\":0,\"ticks\":\"\"}}}],\"scattercarpet\":[{\"type\":\"scattercarpet\",\"marker\":{\"colorbar\":{\"outlinewidth\":0,\"ticks\":\"\"}}}],\"carpet\":[{\"aaxis\":{\"endlinecolor\":\"#2a3f5f\",\"gridcolor\":\"white\",\"linecolor\":\"white\",\"minorgridcolor\":\"white\",\"startlinecolor\":\"#2a3f5f\"},\"baxis\":{\"endlinecolor\":\"#2a3f5f\",\"gridcolor\":\"white\",\"linecolor\":\"white\",\"minorgridcolor\":\"white\",\"startlinecolor\":\"#2a3f5f\"},\"type\":\"carpet\"}],\"table\":[{\"cells\":{\"fill\":{\"color\":\"#EBF0F8\"},\"line\":{\"color\":\"white\"}},\"header\":{\"fill\":{\"color\":\"#C8D4E3\"},\"line\":{\"color\":\"white\"}},\"type\":\"table\"}],\"barpolar\":[{\"marker\":{\"line\":{\"color\":\"#E5ECF6\",\"width\":0.5},\"pattern\":{\"fillmode\":\"overlay\",\"size\":10,\"solidity\":0.2}},\"type\":\"barpolar\"}],\"pie\":[{\"automargin\":true,\"type\":\"pie\"}]},\"layout\":{\"autotypenumbers\":\"strict\",\"colorway\":[\"#636efa\",\"#EF553B\",\"#00cc96\",\"#ab63fa\",\"#FFA15A\",\"#19d3f3\",\"#FF6692\",\"#B6E880\",\"#FF97FF\",\"#FECB52\"],\"font\":{\"color\":\"#2a3f5f\"},\"hovermode\":\"closest\",\"hoverlabel\":{\"align\":\"left\"},\"paper_bgcolor\":\"white\",\"plot_bgcolor\":\"#E5ECF6\",\"polar\":{\"bgcolor\":\"#E5ECF6\",\"angularaxis\":{\"gridcolor\":\"white\",\"linecolor\":\"white\",\"ticks\":\"\"},\"radialaxis\":{\"gridcolor\":\"white\",\"linecolor\":\"white\",\"ticks\":\"\"}},\"ternary\":{\"bgcolor\":\"#E5ECF6\",\"aaxis\":{\"gridcolor\":\"white\",\"linecolor\":\"white\",\"ticks\":\"\"},\"baxis\":{\"gridcolor\":\"white\",\"linecolor\":\"white\",\"ticks\":\"\"},\"caxis\":{\"gridcolor\":\"white\",\"linecolor\":\"white\",\"ticks\":\"\"}},\"coloraxis\":{\"colorbar\":{\"outlinewidth\":0,\"ticks\":\"\"}},\"colorscale\":{\"sequential\":[[0.0,\"#0d0887\"],[0.1111111111111111,\"#46039f\"],[0.2222222222222222,\"#7201a8\"],[0.3333333333333333,\"#9c179e\"],[0.4444444444444444,\"#bd3786\"],[0.5555555555555556,\"#d8576b\"],[0.6666666666666666,\"#ed7953\"],[0.7777777777777778,\"#fb9f3a\"],[0.8888888888888888,\"#fdca26\"],[1.0,\"#f0f921\"]],\"sequentialminus\":[[0.0,\"#0d0887\"],[0.1111111111111111,\"#46039f\"],[0.2222222222222222,\"#7201a8\"],[0.3333333333333333,\"#9c179e\"],[0.4444444444444444,\"#bd3786\"],[0.5555555555555556,\"#d8576b\"],[0.6666666666666666,\"#ed7953\"],[0.7777777777777778,\"#fb9f3a\"],[0.8888888888888888,\"#fdca26\"],[1.0,\"#f0f921\"]],\"diverging\":[[0,\"#8e0152\"],[0.1,\"#c51b7d\"],[0.2,\"#de77ae\"],[0.3,\"#f1b6da\"],[0.4,\"#fde0ef\"],[0.5,\"#f7f7f7\"],[0.6,\"#e6f5d0\"],[0.7,\"#b8e186\"],[0.8,\"#7fbc41\"],[0.9,\"#4d9221\"],[1,\"#276419\"]]},\"xaxis\":{\"gridcolor\":\"white\",\"linecolor\":\"white\",\"ticks\":\"\",\"title\":{\"standoff\":15},\"zerolinecolor\":\"white\",\"automargin\":true,\"zerolinewidth\":2},\"yaxis\":{\"gridcolor\":\"white\",\"linecolor\":\"white\",\"ticks\":\"\",\"title\":{\"standoff\":15},\"zerolinecolor\":\"white\",\"automargin\":true,\"zerolinewidth\":2},\"scene\":{\"xaxis\":{\"backgroundcolor\":\"#E5ECF6\",\"gridcolor\":\"white\",\"linecolor\":\"white\",\"showbackground\":true,\"ticks\":\"\",\"zerolinecolor\":\"white\",\"gridwidth\":2},\"yaxis\":{\"backgroundcolor\":\"#E5ECF6\",\"gridcolor\":\"white\",\"linecolor\":\"white\",\"showbackground\":true,\"ticks\":\"\",\"zerolinecolor\":\"white\",\"gridwidth\":2},\"zaxis\":{\"backgroundcolor\":\"#E5ECF6\",\"gridcolor\":\"white\",\"linecolor\":\"white\",\"showbackground\":true,\"ticks\":\"\",\"zerolinecolor\":\"white\",\"gridwidth\":2}},\"shapedefaults\":{\"line\":{\"color\":\"#2a3f5f\"}},\"annotationdefaults\":{\"arrowcolor\":\"#2a3f5f\",\"arrowhead\":0,\"arrowwidth\":1},\"geo\":{\"bgcolor\":\"white\",\"landcolor\":\"#E5ECF6\",\"subunitcolor\":\"white\",\"showland\":true,\"showlakes\":true,\"lakecolor\":\"white\"},\"title\":{\"x\":0.05},\"mapbox\":{\"style\":\"light\"}}},\"xaxis\":{\"anchor\":\"y\",\"domain\":[0.0,1.0],\"title\":{\"text\":\"track_genre\"}},\"yaxis\":{\"anchor\":\"x\",\"domain\":[0.0,1.0],\"title\":{\"text\":\"time_signature\"}},\"legend\":{\"tracegroupgap\":0},\"title\":{\"text\":\"Invalid Time Signature by Genre\"},\"barmode\":\"relative\"},                        {\"responsive\": true}                    )                };                            </script>        </div>"
      ],
      "text/plain": [
       "Figure({\n",
       "    'data': [{'alignmentgroup': 'True',\n",
       "              'hovertemplate': 'track_genre=%{x}<br>time_signature=%{y}<extra></extra>',\n",
       "              'legendgroup': '',\n",
       "              'marker': {'color': '#636efa', 'pattern': {'shape': ''}},\n",
       "              'name': '',\n",
       "              'offsetgroup': '',\n",
       "              'orientation': 'v',\n",
       "              'showlegend': False,\n",
       "              'textposition': 'auto',\n",
       "              'type': 'bar',\n",
       "              'x': array(['acoustic', 'afrobeat', 'alt-rock', 'alternative', 'ambient', 'anime',\n",
       "                          'black-metal', 'bluegrass', 'blues', 'brazil', 'breakbeat', 'british',\n",
       "                          'cantopop', 'chicago-house', 'children', 'chill', 'classical', 'club',\n",
       "                          'comedy', 'country', 'dance', 'dancehall', 'death-metal', 'deep-house',\n",
       "                          'detroit-techno', 'disco', 'disney', 'drum-and-bass', 'dub', 'dubstep',\n",
       "                          'edm', 'electro', 'electronic', 'emo', 'folk', 'forro', 'french',\n",
       "                          'funk', 'garage', 'german', 'gospel', 'goth', 'grindcore', 'groove',\n",
       "                          'grunge', 'guitar', 'happy', 'hard-rock', 'hardcore', 'hardstyle',\n",
       "                          'heavy-metal', 'hip-hop', 'honky-tonk', 'house', 'idm', 'indian',\n",
       "                          'indie', 'indie-pop', 'industrial', 'iranian', 'j-dance', 'j-idol',\n",
       "                          'j-pop', 'j-rock', 'jazz', 'k-pop', 'kids', 'latin', 'latino', 'malay',\n",
       "                          'mandopop', 'metal', 'metalcore', 'minimal-techno', 'mpb', 'new-age',\n",
       "                          'opera', 'pagode', 'party', 'piano', 'pop', 'pop-film', 'power-pop',\n",
       "                          'progressive-house', 'psych-rock', 'punk', 'punk-rock', 'r-n-b',\n",
       "                          'reggae', 'reggaeton', 'rock', 'rock-n-roll', 'rockabilly', 'romance',\n",
       "                          'sad', 'salsa', 'samba', 'sertanejo', 'show-tunes', 'singer-songwriter',\n",
       "                          'ska', 'sleep', 'songwriter', 'soul', 'spanish', 'study', 'swedish',\n",
       "                          'synth-pop', 'tango', 'techno', 'trance', 'trip-hop', 'turkish',\n",
       "                          'world-music'], dtype=object),\n",
       "              'xaxis': 'x',\n",
       "              'y': array([  9,   5,   2,   2,  42,   7,  20,   5,   6,   5,   1,  11,   1,   0,\n",
       "                            8,   6,  42,   8,  56,   1,   0,   1,  13,   2,   1,   2,  14,   1,\n",
       "                            2,   4,   1,   3,   4,   4,  30,   2,   5,   4,   4,   9,   3,   3,\n",
       "                           36,   3,   6,  21,   4,   3,   5,   3,   3,  11,   3,   0,  24,  20,\n",
       "                           11,   8,   4,  33,   7,   2,   8,   2,  18,   5,   8,   2,   3,  27,\n",
       "                            1,   3,   7,   5,   7,  27,  32,   1,   4,  18,  26,   5,   1,   2,\n",
       "                            8,   2,   3,  10,   3,   2,   0,   3,   4,  30,   5,   0,   3,   5,\n",
       "                           21,   3,   4, 195,   3,   2,   2,   6,   6,   2,  17,   3,   5,   7,\n",
       "                            4,  10]),\n",
       "              'yaxis': 'y'}],\n",
       "    'layout': {'barmode': 'relative',\n",
       "               'legend': {'tracegroupgap': 0},\n",
       "               'template': '...',\n",
       "               'title': {'text': 'Invalid Time Signature by Genre'},\n",
       "               'xaxis': {'anchor': 'y', 'domain': [0.0, 1.0], 'title': {'text': 'track_genre'}},\n",
       "               'yaxis': {'anchor': 'x', 'domain': [0.0, 1.0], 'title': {'text': 'time_signature'}}}\n",
       "})"
      ]
     },
     "execution_count": 35,
     "metadata": {},
     "output_type": "execute_result"
    }
   ],
   "source": [
    "# Filter time_signatures for values that are either less than 3 or greater than 7\n",
    "invalid_time_signatures = spotify.set_index(\"track_genre\")[\"time_signature\"] \\\n",
    "    .apply(lambda x: x < 3 or x > 7)  # Create a boolean series where True indicates invalid values\n",
    "\n",
    "# Group by track_genre and sum the invalid counts\n",
    "time_signatures = invalid_time_signatures.groupby(level=0).sum()\n",
    "\n",
    "time_signatures_df = time_signatures.reset_index()\n",
    "\n",
    "# Create a bar chart \n",
    "px.bar(time_signatures_df,\n",
    "       x = 'track_genre',\n",
    "       y='time_signature',  # The count of invalid time signature values\n",
    "       labels={'0': 'Number of invalid time signatures', 'genre': 'Genre'},\n",
    "       title=\"Invalid Time Signature by Genre\")\n"
   ]
  },
  {
   "cell_type": "markdown",
   "metadata": {
    "id": "-mHoPysw_Jf9"
   },
   "source": [
    "# 3. Data cleaning\n",
    "\n",
    "- Remove duplicate rows (same artist, same song, different genre or album)\n",
    "  - These will have different track IDs\n",
    "- Replace missing values\n",
    "- Remove \"Unnamed: 0\" column (which is just the row number)\n",
    "\n",
    "- Missing value:\n",
    "  - Explicit = unknown\n",
    "  - Key = -1\n",
    "\n",
    "- Time signatures < 3 and > 7\n",
    "  - Time signature of 0, usually means \"sleep\" genre"
   ]
  },
  {
   "cell_type": "markdown",
   "metadata": {
    "id": "dDG66-ThGAjp"
   },
   "source": [
    "Warning: try not to use `inPlace = True` because it will modify the original DataFrame. For example, if you `drop_duplicates inPlace`, the original spotify DataFrame will now never contain duplicates.\n",
    "\n",
    "`drop_duplicates` has a `subset` argument. It will consider two rows duplicates if they have the same values for `subset`."
   ]
  },
  {
   "cell_type": "code",
   "execution_count": 25,
   "metadata": {
    "colab": {
     "base_uri": "https://localhost:8080/"
    },
    "id": "V4jC6iG5_aup",
    "outputId": "d68e4a02-7261-4279-b231-8da7c426f83e"
   },
   "outputs": [
    {
     "data": {
      "text/plain": [
       "(81344, 21)"
      ]
     },
     "execution_count": 25,
     "metadata": {},
     "output_type": "execute_result"
    }
   ],
   "source": [
    "# Remove duplicate rows (the same song by same artist under different genre or album)\n",
    "spotify_new = spotify.drop_duplicates(subset=['artists', 'track_name'], keep='first')\n",
    "spotify_new.shape"
   ]
  },
  {
   "cell_type": "code",
   "execution_count": null,
   "metadata": {
    "id": "pqoddX4WG2gY"
   },
   "outputs": [],
   "source": [
    "# Imputation for rows with missing values\n"
   ]
  }
 ],
 "metadata": {
  "colab": {
   "provenance": []
  },
  "kernelspec": {
   "display_name": "Python 3",
   "name": "python3"
  },
  "language_info": {
   "codemirror_mode": {
    "name": "ipython",
    "version": 3
   },
   "file_extension": ".py",
   "mimetype": "text/x-python",
   "name": "python",
   "nbconvert_exporter": "python",
   "pygments_lexer": "ipython3",
   "version": "3.13.0"
  }
 },
 "nbformat": 4,
 "nbformat_minor": 0
}
