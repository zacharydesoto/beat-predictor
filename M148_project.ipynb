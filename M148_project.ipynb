{
 "cells": [
  {
   "cell_type": "markdown",
   "metadata": {
    "id": "BtBLu3ZB6C-8"
   },
   "source": [
    "# 1. Import the dataset\n",
    "\n",
    "Using the `pandas` link from HuggingFace.\n",
    "\n",
    "Note that you have to run this every time (Colab does not save variables)"
   ]
  },
  {
   "cell_type": "code",
   "execution_count": null,
   "metadata": {
    "id": "NWh2XcXv51Sz"
   },
   "outputs": [],
   "source": [
    "import pandas as pd\n",
    "import tqdm as notebook_tqdm\n",
    "spotify = pd.read_csv(\"hf://datasets/maharshipandya/spotify-tracks-dataset/dataset.csv\")"
   ]
  },
  {
   "cell_type": "code",
   "execution_count": null,
   "metadata": {
    "id": "XlezAgze767k"
   },
   "outputs": [],
   "source": [
    "# import some libraries\n",
    "import numpy as np\n",
    "import plotly.express as px\n",
    "pd.set_option('display.max_columns', None)\n",
    "pd.options.mode.copy_on_write = True\n",
    "import plotly.express as px"
   ]
  },
  {
   "cell_type": "markdown",
   "metadata": {
    "id": "xpiemk2I7ItJ"
   },
   "source": [
    "# 2. Getting started\n",
    "\n",
    "Print out the columns of the dataset.\n",
    "Print out the first 20 rows of the dataset."
   ]
  },
  {
   "cell_type": "code",
   "execution_count": null,
   "metadata": {
    "colab": {
     "base_uri": "https://localhost:8080/"
    },
    "id": "kqnfrmFx7HVI",
    "outputId": "19bc2a5e-77e5-4a31-db63-a388782906aa"
   },
   "outputs": [],
   "source": [
    "spotify.columns\n",
    "# spotify.head(20)"
   ]
  },
  {
   "cell_type": "code",
   "execution_count": null,
   "metadata": {
    "colab": {
     "base_uri": "https://localhost:8080/",
     "height": 1000
    },
    "id": "zikedWp78POW",
    "outputId": "5d324cf9-950a-41b3-9098-ba0b252c40bc"
   },
   "outputs": [],
   "source": [
    "# Get 20 random rows\n",
    "spotify.sample(20)"
   ]
  },
  {
   "cell_type": "code",
   "execution_count": null,
   "metadata": {
    "colab": {
     "base_uri": "https://localhost:8080/"
    },
    "id": "Z6PyDHus8Tud",
    "outputId": "d702322f-7713-422a-fa15-0b54ea8e3ec1"
   },
   "outputs": [],
   "source": [
    "# Check the shape of spotify dataset\n",
    "spotify.shape"
   ]
  },
  {
   "cell_type": "code",
   "execution_count": null,
   "metadata": {
    "colab": {
     "base_uri": "https://localhost:8080/"
    },
    "id": "U4R5CVJT8VLT",
    "outputId": "2d9959b3-5fba-4f55-8213-c12224fe6c9e"
   },
   "outputs": [],
   "source": [
    "# Sanity check: get the counts of each artist and track_name combination\n",
    "counts = spotify.groupby(['artists', 'track_name']).size().reset_index(name='count')\n",
    "print(counts)\n",
    "print(\"There are \" + str(sum(counts['count'] != 1)) + \" artist, track_name combinations that are non-unique.\")"
   ]
  },
  {
   "cell_type": "markdown",
   "metadata": {
    "id": "Ab7Nmx2JaWnl"
   },
   "source": [
    "## Sanity checks!\n",
    "\n",
    "- Are there any entries with null values\n",
    "- Do numbers fall in the expected range\n"
   ]
  },
  {
   "cell_type": "code",
   "execution_count": null,
   "metadata": {
    "colab": {
     "base_uri": "https://localhost:8080/"
    },
    "id": "uPj9e86ZsE4C",
    "outputId": "e42e700f-7d78-46b2-ef67-f7ff3daffbd7"
   },
   "outputs": [],
   "source": [
    "# popularity between 0 and 100\n",
    "sum(spotify['popularity'] < 0) + sum(spotify['popularity'] > 100)"
   ]
  },
  {
   "cell_type": "code",
   "execution_count": null,
   "metadata": {
    "colab": {
     "base_uri": "https://localhost:8080/"
    },
    "id": "AAxU2scuaenq",
    "outputId": "e9cc9856-c863-4f6a-8206-2e313a1659d1"
   },
   "outputs": [],
   "source": [
    "# danceability between 0.0 and 1.0\n",
    "sum(spotify['danceability'] < 0.0) + sum(spotify['danceability'] > 1.0)"
   ]
  },
  {
   "cell_type": "code",
   "execution_count": null,
   "metadata": {
    "colab": {
     "base_uri": "https://localhost:8080/"
    },
    "id": "ZpPM45ZAcYyZ",
    "outputId": "5fef807c-9e87-4660-c39d-e2ead3dd4a50"
   },
   "outputs": [],
   "source": [
    "# energy is between 0.0 to 1.0\n",
    "sum(spotify['energy'] < 0.0) + sum(spotify['energy'] > 1.0)"
   ]
  },
  {
   "cell_type": "code",
   "execution_count": null,
   "metadata": {
    "colab": {
     "base_uri": "https://localhost:8080/"
    },
    "id": "BOr4Ow9mbHmF",
    "outputId": "a5c51b8d-ed02-49d8-cd0e-3af2701f92fd"
   },
   "outputs": [],
   "source": [
    "# mode is 0 or 1\n",
    "sum(x not in [0,1] for x in spotify['mode'])"
   ]
  },
  {
   "cell_type": "code",
   "execution_count": null,
   "metadata": {
    "colab": {
     "base_uri": "https://localhost:8080/"
    },
    "id": "i7ND7P5NcflU",
    "outputId": "faee2c2d-f58e-41ba-e78d-a7c5471e7702"
   },
   "outputs": [],
   "source": [
    "# speechiness between 0.0 and 1.0\n",
    "sum(spotify['speechiness'] < 0.0) + sum(spotify['speechiness'] > 1.0)"
   ]
  },
  {
   "cell_type": "code",
   "execution_count": null,
   "metadata": {
    "colab": {
     "base_uri": "https://localhost:8080/"
    },
    "id": "gEVJB-tYc-4e",
    "outputId": "620e9a3b-9814-489f-b76d-78bd084e6664"
   },
   "outputs": [],
   "source": [
    "# acousticness between 0.0 and 1.0\n",
    "sum(spotify['acousticness'] < 0.0) + sum(spotify['acousticness'] > 1.0)"
   ]
  },
  {
   "cell_type": "code",
   "execution_count": null,
   "metadata": {
    "colab": {
     "base_uri": "https://localhost:8080/"
    },
    "id": "2pHzb8YrdCeo",
    "outputId": "9862daa9-774c-4315-890a-1657ff7a3dd8"
   },
   "outputs": [],
   "source": [
    "# instrumentalness between 0.0 and 1.0\n",
    "sum(spotify['instrumentalness'] < 0.0) + sum(spotify['instrumentalness'] > 1.0)"
   ]
  },
  {
   "cell_type": "code",
   "execution_count": null,
   "metadata": {
    "colab": {
     "base_uri": "https://localhost:8080/"
    },
    "id": "Cud3XpMzdPi5",
    "outputId": "6ae84ec7-1f76-48e4-f949-4c4db7d6c98e"
   },
   "outputs": [],
   "source": [
    "# liveness between 0.0 and 1.0\n",
    "sum(spotify['liveness'] < 0.0) + sum(spotify['liveness'] > 1.0)"
   ]
  },
  {
   "cell_type": "code",
   "execution_count": null,
   "metadata": {
    "colab": {
     "base_uri": "https://localhost:8080/"
    },
    "id": "wAwXLsPYdTr9",
    "outputId": "be2e3b3b-0e09-4685-ab00-52d62827910b"
   },
   "outputs": [],
   "source": [
    "# valence between 0.0 and 1.0\n",
    "sum(spotify['valence'] < 0.0) + sum(spotify['valence'] > 1.0)"
   ]
  },
  {
   "cell_type": "code",
   "execution_count": null,
   "metadata": {
    "colab": {
     "base_uri": "https://localhost:8080/"
    },
    "id": "_JZNDcJjew2L",
    "outputId": "6d3792e3-8924-4f44-e9bd-1814fc92f5b9"
   },
   "outputs": [],
   "source": [
    "# positive tempo\n",
    "sum(spotify['tempo'] < 0.0)"
   ]
  },
  {
   "cell_type": "code",
   "execution_count": null,
   "metadata": {
    "colab": {
     "base_uri": "https://localhost:8080/"
    },
    "id": "PWVKyIf6dYsO",
    "outputId": "6d6ed6a8-80b8-4df6-f3e8-73f250101b34"
   },
   "outputs": [],
   "source": [
    "# time signature between 3 and 7 (inclusive)\n",
    "sum(spotify['time_signature'] < 3) + sum(spotify['time_signature'] > 7)"
   ]
  },
  {
   "cell_type": "markdown",
   "metadata": {
    "id": "GcxW47lKnw2A"
   },
   "source": [
    "## Let's visualize some missing values!"
   ]
  },
  {
   "cell_type": "code",
   "execution_count": null,
   "metadata": {
    "colab": {
     "base_uri": "https://localhost:8080/",
     "height": 542
    },
    "id": "MUnpdgTRnzgi",
    "outputId": "388aa499-0222-443b-cc75-936098e6c2ed"
   },
   "outputs": [],
   "source": [
    "# identify whether each tempo value is zero\n",
    "# and group by genre (index)\n",
    "# count number of zero values\n",
    "zero_tempo_by_genre = spotify.set_index(\"track_genre\")[\"tempo\"].eq(0).groupby(level=0).sum()\n",
    "\n",
    "# Convert the result to a DataFrame \n",
    "zero_tempo_by_genre_df = zero_tempo_by_genre.reset_index()\n",
    "\n",
    "# Create a bar chart \n",
    "px.bar(zero_tempo_by_genre_df,\n",
    "       x='track_genre',\n",
    "       y='tempo',  # The count of zero tempo values\n",
    "       labels={'0': 'Number of zero tempo values', 'genre': 'Genre'},\n",
    "       title=\"Zero Tempo Values by Genre\")"
   ]
  },
  {
   "cell_type": "code",
   "execution_count": null,
   "metadata": {},
   "outputs": [],
   "source": [
    "# identify whether each valence value is zero\n",
    "# and group by genre (index)\n",
    "# count number of zero values\n",
    "zero_valence_by_genre = spotify.set_index(\"track_genre\")[\"valence\"].eq(0).groupby(level=0).sum()\n",
    "\n",
    "# Convert the result to a DataFrame \n",
    "zero_valence_by_genre_df = zero_valence_by_genre.reset_index()\n",
    "\n",
    "# Create a bar chart \n",
    "px.bar(zero_valence_by_genre_df,\n",
    "       x='track_genre',\n",
    "       y='valence',  # The count of zero valence values\n",
    "       labels={'0': 'Number of zero valence values', 'genre': 'Genre'},\n",
    "       title=\"Zero Valence Values by Genre\")"
   ]
  },
  {
   "cell_type": "code",
   "execution_count": null,
   "metadata": {},
   "outputs": [],
   "source": [
    "# Filter time_signatures for values that are either less than 3 or greater than 7\n",
    "invalid_time_signatures = spotify.set_index(\"track_genre\")[\"time_signature\"] \\\n",
    "    .apply(lambda x: x < 3 or x > 7)  # Create a boolean series where True indicates invalid values\n",
    "\n",
    "# Group by track_genre and sum the invalid counts\n",
    "time_signatures = invalid_time_signatures.groupby(level=0).sum()\n",
    "\n",
    "time_signatures_df = time_signatures.reset_index()\n",
    "\n",
    "# Create a bar chart \n",
    "px.bar(time_signatures_df,\n",
    "       x = 'track_genre',\n",
    "       y='time_signature',  # The count of invalid time signature values\n",
    "       labels={'0': 'Number of invalid time signatures', 'genre': 'Genre'},\n",
    "       title=\"Invalid Time Signature by Genre\")\n"
   ]
  },
  {
   "cell_type": "markdown",
   "metadata": {
    "id": "-mHoPysw_Jf9"
   },
   "source": [
    "# 3. Data cleaning\n",
    "\n",
    "- Remove duplicate rows (same artist, same song, different genre or album)\n",
    "  - These will have different track IDs\n",
    "- Replace missing values\n",
    "- Remove \"Unnamed: 0\" column (which is just the row number)\n",
    "\n",
    "- Missing value:\n",
    "  - Explicit = unknown\n",
    "  - Key = -1\n",
    "\n",
    "- Time signatures < 3 and > 7\n",
    "  - Time signature of 0, usually means \"sleep\" genre"
   ]
  },
  {
   "cell_type": "markdown",
   "metadata": {
    "id": "dDG66-ThGAjp"
   },
   "source": [
    "Warning: try not to use `inPlace = True` because it will modify the original DataFrame. For example, if you `drop_duplicates inPlace`, the original spotify DataFrame will now never contain duplicates.\n",
    "\n",
    "`drop_duplicates` has a `subset` argument. It will consider two rows duplicates if they have the same values for `subset`."
   ]
  },
  {
   "cell_type": "code",
   "execution_count": null,
   "metadata": {
    "colab": {
     "base_uri": "https://localhost:8080/"
    },
    "id": "V4jC6iG5_aup",
    "outputId": "d68e4a02-7261-4279-b231-8da7c426f83e"
   },
   "outputs": [],
   "source": [
    "# Remove duplicate rows (the same song by same artist under different genre or album)\n",
    "spotify_new = spotify.drop_duplicates(subset=['artists', 'track_name'], keep='first')\n",
    "spotify_new.shape"
   ]
  },
  {
   "cell_type": "code",
   "execution_count": null,
   "metadata": {
    "id": "pqoddX4WG2gY"
   },
   "outputs": [],
   "source": [
    "# Imputation for rows with missing values\n"
   ]
  }
 ],
 "metadata": {
  "colab": {
   "provenance": []
  },
  "kernelspec": {
   "display_name": "Python 3",
   "name": "python3"
  },
  "language_info": {
   "codemirror_mode": {
    "name": "ipython",
    "version": 3
   },
   "file_extension": ".py",
   "mimetype": "text/x-python",
   "name": "python",
   "nbconvert_exporter": "python",
   "pygments_lexer": "ipython3",
   "version": "3.13.0"
  }
 },
 "nbformat": 4,
 "nbformat_minor": 0
}
